{
 "cells": [
  {
   "cell_type": "code",
   "execution_count": 1,
   "metadata": {},
   "outputs": [],
   "source": [
    "import random\n",
    "import turtle\n",
    "\n",
    "wn = turtle.Screen()\n",
    "wn.title(\"This is my screen title!\")\n"
   ]
  },
  {
   "cell_type": "markdown",
   "metadata": {},
   "source": [
    "Set up players, colors, and start positions:"
   ]
  },
  {
   "cell_type": "code",
   "execution_count": 2,
   "metadata": {},
   "outputs": [],
   "source": [
    "player_one = turtle.Turtle()\n",
    "player_one.color(\"green\") \n",
    "player_one.shape(\"turtle\")\n",
    "player_one.penup()\n",
    "player_one.goto(-200,100)\n",
    "player_two = player_one.clone()\n",
    "player_two.color(\"blue\")\n",
    "player_two.penup()\n",
    "player_two.goto(-200,-100)"
   ]
  },
  {
   "cell_type": "code",
   "execution_count": 3,
   "metadata": {},
   "outputs": [],
   "source": [
    "player_one.goto(300,60)\n",
    "player_one.pendown()\n",
    "player_one.circle(40)\n",
    "player_one.penup()\n",
    "player_one.goto(-200,100)\n",
    "player_two.goto(300,-140)\n",
    "player_two.pendown()\n",
    "player_two.circle(40)\n",
    "player_two.penup()\n",
    "player_two.goto(-200,-100)"
   ]
  },
  {
   "cell_type": "code",
   "execution_count": 4,
   "metadata": {},
   "outputs": [],
   "source": [
    "die = [1,2,3,4,5,6]"
   ]
  },
  {
   "cell_type": "code",
   "execution_count": 5,
   "metadata": {},
   "outputs": [
    {
     "name": "stdout",
     "output_type": "stream",
     "text": [
      "Press 'Enter' to roll the die \n",
      "The result of the die roll is: \n",
      "6\n",
      "The number of steps will be: \n",
      "120\n",
      "Press 'Enter' to roll the die \n",
      "The result of the die roll is: \n",
      "6\n",
      "The number of steps will be: \n",
      "120\n",
      "Press 'Enter' to roll the die \n",
      "The result of the die roll is: \n",
      "3\n",
      "The number of steps will be: \n",
      "60\n",
      "Press 'Enter' to roll the die \n",
      "The result of the die roll is: \n",
      "3\n",
      "The number of steps will be: \n",
      "60\n",
      "Press 'Enter' to roll the die \n",
      "The result of the die roll is: \n",
      "5\n",
      "The number of steps will be: \n",
      "100\n",
      "Press 'Enter' to roll the die \n",
      "The result of the die roll is: \n",
      "5\n",
      "The number of steps will be: \n",
      "100\n",
      "Press 'Enter' to roll the die \n",
      "The result of the die roll is: \n",
      "2\n",
      "The number of steps will be: \n",
      "40\n",
      "Press 'Enter' to roll the die \n",
      "The result of the die roll is: \n",
      "2\n",
      "The number of steps will be: \n",
      "40\n",
      "Press 'Enter' to roll the die \n",
      "The result of the die roll is: \n",
      "6\n",
      "The number of steps will be: \n",
      "120\n",
      "Press 'Enter' to roll the die \n",
      "The result of the die roll is: \n",
      "6\n",
      "The number of steps will be: \n",
      "120\n",
      "Press 'Enter' to roll the die \n",
      "The result of the die roll is: \n",
      "6\n",
      "The number of steps will be: \n",
      "120\n",
      "Press 'Enter' to roll the die \n",
      "The result of the die roll is: \n",
      "6\n",
      "The number of steps will be: \n",
      "120\n",
      "Player One Wins!\n"
     ]
    }
   ],
   "source": [
    "for i in range(20):\n",
    "\n",
    "     if player_one.pos() >= (300,100):\n",
    "\n",
    "            print(\"Player One Wins!\")\n",
    "\n",
    "            break\n",
    "\n",
    "     elif player_two.pos() >= (300,-100):\n",
    "\n",
    "            print(\"Player Two Wins!\")\n",
    "\n",
    "            break\n",
    "\n",
    "     else:\n",
    "\n",
    "            player_one_turn = input(\"Press 'Enter' to roll the die \")\n",
    "\n",
    "            die_outcome = random.choice(die)\n",
    "\n",
    "            print(\"The result of the die roll is: \")\n",
    "\n",
    "            print(die_outcome)\n",
    "\n",
    "            print(\"The number of steps will be: \")\n",
    "\n",
    "            print(20*die_outcome)\n",
    "\n",
    "            player_one.fd(20*die_outcome)\n",
    "\n",
    "            player_two_turn = input(\"Press 'Enter' to roll the die \")\n",
    "\n",
    "            d = random.choice(die)\n",
    "\n",
    "            print(\"The result of the die roll is: \")\n",
    "\n",
    "            print(die_outcome)\n",
    "\n",
    "            print(\"The number of steps will be: \")\n",
    "\n",
    "            print(20*die_outcome)\n",
    "\n",
    "            player_two.fd(20*die_outcome)"
   ]
  },
  {
   "cell_type": "code",
   "execution_count": null,
   "metadata": {},
   "outputs": [],
   "source": []
  }
 ],
 "metadata": {
  "kernelspec": {
   "display_name": "Python 3",
   "language": "python",
   "name": "python3"
  },
  "language_info": {
   "codemirror_mode": {
    "name": "ipython",
    "version": 3
   },
   "file_extension": ".py",
   "mimetype": "text/x-python",
   "name": "python",
   "nbconvert_exporter": "python",
   "pygments_lexer": "ipython3",
   "version": "3.6.8"
  }
 },
 "nbformat": 4,
 "nbformat_minor": 2
}
