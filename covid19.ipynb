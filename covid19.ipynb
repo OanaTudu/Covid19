{
 "cells": [
  {
   "cell_type": "markdown",
   "metadata": {},
   "source": [
    "A very quick look at the evolving coronavirus cases in LA County, starting with Jan 21st, when the first case got diagnosed in the county. Data comes from the LA County Public Health website:\n",
    "http://publichealth.lacounty.gov/media/Coronavirus/\n",
    "I am updating the data as it comes in. "
   ]
  },
  {
   "cell_type": "code",
   "execution_count": 1,
   "metadata": {},
   "outputs": [],
   "source": [
    "import pandas as pd\n",
    "from matplotlib import pyplot as plt\n",
    "import numpy as np\n",
    "import seaborn as sns\n",
    "import requests,datetime\n",
    "from bs4 import BeautifulSoup\n",
    "from datetime import timedelta\n",
    "\n",
    "\n",
    "df = pd.read_csv('LACountyCovid.csv', header=0, index_col=0, squeeze=True)\n",
    "df.index = pd.to_datetime(df.index)\n",
    "df.index.name = 'date'\n"
   ]
  },
  {
   "cell_type": "code",
   "execution_count": 2,
   "metadata": {},
   "outputs": [
    {
     "name": "stdout",
     "output_type": "stream",
     "text": [
      "            confirmed cases  deaths  hospitalized  daily cases month  \\\n",
      "date                                                                   \n",
      "2020-09-12         253985.0  6208.0         793.0        816.0  Sept   \n",
      "2020-09-13         254656.0  6231.0         775.0        733.0  Sept   \n",
      "2020-09-14              NaN     NaN           NaN          NaN  Sept   \n",
      "2020-09-15              NaN     NaN           NaN          NaN  Sept   \n",
      "2020-09-16              NaN     NaN           NaN          NaN  Sept   \n",
      "\n",
      "            RO-confirmed  RO-deaths  RO-hospitalized  RO-daily  MS-confirmed  \\\n",
      "date                                                                           \n",
      "2020-09-12      102386.0     4127.0              NaN    1311.0       90018.0   \n",
      "2020-09-13      103495.0     4163.0              NaN    1109.0       90523.0   \n",
      "2020-09-14      104187.0     4185.0              NaN     692.0           NaN   \n",
      "2020-09-15      105298.0     4236.0              NaN    1111.0           NaN   \n",
      "2020-09-16           NaN        NaN              NaN       NaN           NaN   \n",
      "\n",
      "            MS-deaths  MS-hospitalized  MS-daily  \n",
      "date                                              \n",
      "2020-09-12     2706.0              NaN     144.0  \n",
      "2020-09-13     2734.0              NaN     505.0  \n",
      "2020-09-14        NaN              NaN       NaN  \n",
      "2020-09-15        NaN              NaN       NaN  \n",
      "2020-09-16        NaN              NaN       NaN  \n",
      "            confirmed cases  deaths  hospitalized  daily cases month  \\\n",
      "date                                                                   \n",
      "2020-09-12         253985.0  6208.0         793.0        816.0  Sept   \n",
      "2020-09-13         254656.0  6231.0         775.0        733.0  Sept   \n",
      "2020-09-14              NaN     NaN           NaN          NaN  Sept   \n",
      "2020-09-15              NaN     NaN           NaN          NaN  Sept   \n",
      "2020-09-16              NaN     NaN           NaN          NaN  Sept   \n",
      "\n",
      "            RO-confirmed  RO-deaths  RO-hospitalized  RO-daily  MS-confirmed  \\\n",
      "date                                                                           \n",
      "2020-09-12      102386.0     4127.0              NaN    1311.0       90018.0   \n",
      "2020-09-13      103495.0     4163.0              NaN    1109.0       90523.0   \n",
      "2020-09-14      104187.0     4185.0              NaN     692.0           NaN   \n",
      "2020-09-15      105298.0     4236.0              NaN    1111.0           NaN   \n",
      "2020-09-16           NaN        NaN              NaN       NaN           NaN   \n",
      "\n",
      "                ...        MS-daily  Ro_Conf_prop  Ro_Deaths_prop  \\\n",
      "date            ...                                                 \n",
      "2020-09-12      ...           144.0   5242.498720      211.315924   \n",
      "2020-09-13      ...           505.0   5299.283154      213.159242   \n",
      "2020-09-14      ...             NaN   5334.715822      214.285714   \n",
      "2020-09-15      ...             NaN   5391.602663      216.897081   \n",
      "2020-09-16      ...             NaN           NaN             NaN   \n",
      "\n",
      "            Ro_daily_prop  LA_Conf_prop  LA_Deaths_prop  LA_daily_prop  \\\n",
      "date                                                                     \n",
      "2020-09-12      67.127496   25100.41004      613.513969      80.642300   \n",
      "2020-09-13      56.784434   25166.72252      615.786975      72.439713   \n",
      "2020-09-14      35.432668           NaN             NaN            NaN   \n",
      "2020-09-15      56.886841           NaN             NaN            NaN   \n",
      "2020-09-16            NaN           NaN             NaN            NaN   \n",
      "\n",
      "            MS_Conf_prop  MS_Deaths_prop  MS_daily_prop  \n",
      "date                                                     \n",
      "2020-09-12  30136.591898      905.925678      48.208905  \n",
      "2020-09-13  30305.657851      915.299632     169.065952  \n",
      "2020-09-14           NaN             NaN            NaN  \n",
      "2020-09-15           NaN             NaN            NaN  \n",
      "2020-09-16           NaN             NaN            NaN  \n",
      "\n",
      "[5 rows x 22 columns]\n"
     ]
    }
   ],
   "source": [
    "print(df.tail())\n",
    "\n",
    "pop_Ro = 19530000\n",
    "pop_LA = 10118759\n",
    "pop_MS = 2987000\n",
    "df['Ro_Conf_prop'] = df.apply(lambda row: row['RO-confirmed'] * 1000000 / pop_Ro, axis = 1) \n",
    "df['Ro_Deaths_prop'] = df.apply(lambda row: row['RO-deaths'] * 1000000 / pop_Ro, axis = 1) \n",
    "df['Ro_daily_prop'] = df.apply(lambda row: row['RO-daily'] * 1000000 / pop_Ro, axis = 1) \n",
    "\n",
    "df['LA_Conf_prop'] = df.apply(lambda row: row['confirmed cases'] * 1000000 / pop_LA, axis = 1) \n",
    "df['LA_Deaths_prop'] = df.apply(lambda row: row['deaths'] * 1000000 / pop_LA, axis = 1) \n",
    "df['LA_daily_prop'] = df.apply(lambda row: row['daily cases'] * 1000000 / pop_LA, axis = 1) \n",
    "\n",
    "df['MS_Conf_prop'] = df.apply(lambda row: row['MS-confirmed'] * 1000000 / pop_MS, axis = 1) \n",
    "df['MS_Deaths_prop'] = df.apply(lambda row: row['MS-deaths'] * 1000000 / pop_MS, axis = 1) \n",
    "df['MS_daily_prop'] = df.apply(lambda row: row['MS-daily'] * 1000000 / pop_MS, axis = 1) \n",
    "print(df.tail())"
   ]
  },
  {
   "cell_type": "code",
   "execution_count": 3,
   "metadata": {},
   "outputs": [],
   "source": [
    "df['DailyDeaths'] = df['deaths'].diff(1)\n",
    "df['DailyDeathsRo'] = df['RO-deaths'].diff(1)\n",
    "df['DailyDeathsMs'] = df['MS-deaths'].diff(1)"
   ]
  },
  {
   "cell_type": "code",
   "execution_count": 4,
   "metadata": {},
   "outputs": [],
   "source": [
    "def scrapeGlobalCase (url):\n",
    "    try:\n",
    "        #url = \"https://www.worldometers.info/coronavirus/\"\n",
    "        req = requests.get(url)\n",
    "        bsObj = BeautifulSoup(req.text, \"html.parser\")\n",
    "        data = bsObj.find_all(\"div\",class_ = \"maincounter-number\")\n",
    "        NumConfirmed = int(data[0].text.strip().replace(',', ''))\n",
    "        NumDeaths = int(data[1].text.strip().replace(',', ''))\n",
    "        NumRecovered = int(data[2].text.strip().replace(',', ''))\n",
    "        NumActive = NumConfirmed - NumDeaths - NumRecovered\n",
    "        TimeNow = datetime.datetime.now()\n",
    "        return {\n",
    "            'date': str(TimeNow),\n",
    "            'ConfirmedCases': NumConfirmed,\n",
    "            'ActiveCases': NumActive,\n",
    "            'RecoveredCases': NumRecovered,\n",
    "            'Deaths': NumDeaths\n",
    "        }\n",
    "    except Exception as e: print(e)\n",
    "\n",
    "\n"
   ]
  },
  {
   "cell_type": "code",
   "execution_count": null,
   "metadata": {},
   "outputs": [],
   "source": [
    "url_ro = \"https://www.worldometers.info/coronavirus/country/romania/\"\n",
    "url_global = \"https://www.worldometers.info/coronavirus/\"\n",
    "url_us = \"https://www.worldometers.info/coronavirus/country/us/\"\n",
    "url_california = \"https://www.worldometers.info/coronavirus/usa/california/\"\n",
    "url_ms = \"https://www.worldometers.info/coronavirus/usa/mississippi/\"\n"
   ]
  },
  {
   "cell_type": "code",
   "execution_count": null,
   "metadata": {},
   "outputs": [],
   "source": [
    "testResult = scrapeGlobalCase(url_global)\n",
    "testRomania = scrapeGlobalCase(url_ro)\n",
    "testUS = scrapeGlobalCase(url_us)\n",
    "testCA = scrapeGlobalCase(url_california)\n",
    "testMS = scrapeGlobalCase(url_ms)"
   ]
  },
  {
   "cell_type": "code",
   "execution_count": null,
   "metadata": {},
   "outputs": [],
   "source": [
    "import csv\n",
    "with open('global_cases.csv', 'w', newline='') as f:\n",
    "    writer = csv.writer(f)\n",
    "    for key, value in testResult.items():\n",
    "        writer.writerow([key, value])"
   ]
  },
  {
   "cell_type": "code",
   "execution_count": null,
   "metadata": {},
   "outputs": [],
   "source": [
    "from csv import DictWriter\n",
    "def append_dict_as_row(file_name, dict_of_elem, field_names):\n",
    "    # Open file in append mode\n",
    "    with open(file_name, 'a+', newline='') as write_obj:\n",
    "        # Create a writer object from csv module\n",
    "        dict_writer = DictWriter(write_obj, fieldnames=field_names)\n",
    "        # Add dictionary as wor in the csv\n",
    "        dict_writer.writerow(dict_of_elem)"
   ]
  },
  {
   "cell_type": "code",
   "execution_count": null,
   "metadata": {},
   "outputs": [],
   "source": [
    "list_global = []\n",
    "cols = ['date','ConfirmedCases','ActiveCases','RecoveredCases','Deaths']\n",
    "with open('global_cases_all.csv', newline='') as csvfile:\n",
    "    reader = csv.DictReader(csvfile)\n",
    "    for row in reader:\n",
    "        list_global.append([row['date'], row[' ConfirmedCases'], row[' ActiveCases'], row[' RecoveredCases'], row[' Deaths']])\n",
    "df_global = pd.DataFrame(list_global, columns = cols)\n",
    "df_global['ConfirmedCases'] = df_global['ConfirmedCases'].astype(str).astype(int)\n",
    "df_global['ActiveCases'] = df_global['ActiveCases'].astype(str).astype(int)\n",
    "df_global['RecoveredCases'] = df_global['RecoveredCases'].astype(str).astype(int)\n",
    "df_global['Deaths'] = df_global['Deaths'].astype(str).astype(int)\n",
    "df_global['DailyCases'] = df_global['ConfirmedCases'].diff(1)\n",
    "df_global['DailyDeaths'] = df_global['Deaths'].diff(1)\n",
    "\n",
    "#print(df_global.head())\n",
    "#print(df_global.dtypes)"
   ]
  },
  {
   "cell_type": "code",
   "execution_count": null,
   "metadata": {},
   "outputs": [],
   "source": [
    "list_us = []\n",
    "cols = ['date','ConfirmedCases','ActiveCases','RecoveredCases','Deaths']\n",
    "with open('global_cases_us.csv', newline='') as csvfile:\n",
    "    reader = csv.DictReader(csvfile)\n",
    "    for row in reader:\n",
    "        list_us.append([row['date'], row[' ConfirmedCases'], row[' ActiveCases'], row[' RecoveredCases'], row[' Deaths']])\n",
    "df_us = pd.DataFrame(list_us, columns = cols)\n",
    "df_us['ConfirmedCases'] = df_us['ConfirmedCases'].astype(str).astype(int)\n",
    "df_us['ActiveCases'] = df_us['ActiveCases'].astype(str).astype(int)\n",
    "df_us['RecoveredCases'] = df_us['RecoveredCases'].astype(str).astype(int)\n",
    "df_us['Deaths'] = df_us['Deaths'].astype(str).astype(int)\n",
    "df_us['DailyCases'] = df_us['ConfirmedCases'].diff(1)\n",
    "df_us['DailyDeaths'] = df_us['Deaths'].diff(1)"
   ]
  },
  {
   "cell_type": "markdown",
   "metadata": {},
   "source": [
    "# Global cases and global deaths"
   ]
  },
  {
   "cell_type": "code",
   "execution_count": null,
   "metadata": {},
   "outputs": [],
   "source": [
    "sns.set()\n",
    "plt.figure(figsize = (20,6))\n",
    "pl = sns.barplot(x = df_global.date, y = df_global['DailyCases'])\n",
    "for ind, label in enumerate(pl.get_xticklabels()):\n",
    "    if ind % 10 == 0:  # every 10th label is kept\n",
    "        label.set_visible(True)\n",
    "    else:\n",
    "        label.set_visible(False)\n",
    "_=plt.xticks( rotation=35)\n",
    "_=pl.set_title('New confirmed cases')"
   ]
  },
  {
   "cell_type": "code",
   "execution_count": null,
   "metadata": {},
   "outputs": [],
   "source": [
    "df_global['pandas_SMA_7'] = df_global['DailyCases'].rolling(window=7).mean()\n",
    "plt.figure(figsize = (20,6))\n",
    "pl = sns.barplot(x = df_global.date, y = df_global['pandas_SMA_7'])\n",
    "for ind, label in enumerate(pl.get_xticklabels()):\n",
    "    if ind % 10 == 0:  # every 10th label is kept\n",
    "        label.set_visible(True)\n",
    "    else:\n",
    "        label.set_visible(False)\n",
    "_=plt.xticks( rotation=35)\n",
    "_=pl.set_title('New confirmed cases 7 day average')"
   ]
  },
  {
   "cell_type": "code",
   "execution_count": null,
   "metadata": {},
   "outputs": [],
   "source": [
    "sns.set()\n",
    "plt.figure(figsize = (20,6))\n",
    "pl = sns.barplot(x = df_global.date, y = df_global['DailyDeaths'])\n",
    "for ind, label in enumerate(pl.get_xticklabels()):\n",
    "    if ind % 10 == 0:  # every 10th label is kept\n",
    "        label.set_visible(True)\n",
    "    else:\n",
    "        label.set_visible(False)\n",
    "_=plt.xticks( rotation=35)\n",
    "_=pl.set_title('New confirmed deaths')"
   ]
  },
  {
   "cell_type": "code",
   "execution_count": null,
   "metadata": {},
   "outputs": [],
   "source": [
    "df_global['pandasD_SMA_7'] = df_global['DailyDeaths'].rolling(window=7).mean()\n",
    "plt.figure(figsize = (20,6))\n",
    "pl = sns.barplot(x = df_global.date, y = df_global['pandasD_SMA_7'])\n",
    "for ind, label in enumerate(pl.get_xticklabels()):\n",
    "    if ind % 10 == 0:  # every 10th label is kept\n",
    "        label.set_visible(True)\n",
    "    else:\n",
    "        label.set_visible(False)\n",
    "_=plt.xticks( rotation=35)\n",
    "_=pl.set_title('New confirmed deaths 7 day average')"
   ]
  },
  {
   "cell_type": "markdown",
   "metadata": {},
   "source": [
    "# US cases and deaths"
   ]
  },
  {
   "cell_type": "code",
   "execution_count": null,
   "metadata": {},
   "outputs": [],
   "source": [
    "sns.set()\n",
    "plt.figure(figsize = (20,6))\n",
    "pl = sns.barplot(x = df_us.date, y = df_us['DailyCases'])\n",
    "for ind, label in enumerate(pl.get_xticklabels()):\n",
    "    if ind % 10 == 0:  # every 10th label is kept\n",
    "        label.set_visible(True)\n",
    "    else:\n",
    "        label.set_visible(False)\n",
    "_=plt.xticks( rotation=35)\n",
    "_=pl.set_title('New confirmed cases')"
   ]
  },
  {
   "cell_type": "code",
   "execution_count": null,
   "metadata": {},
   "outputs": [],
   "source": [
    "df_us['pandas_SMA_7'] = df_us['DailyCases'].rolling(window=7).mean()\n",
    "plt.figure(figsize = (20,6))\n",
    "pl = sns.barplot(x = df_us.date, y = df_us['pandas_SMA_7'])\n",
    "for ind, label in enumerate(pl.get_xticklabels()):\n",
    "    if ind % 10 == 0:  # every 10th label is kept\n",
    "        label.set_visible(True)\n",
    "    else:\n",
    "        label.set_visible(False)\n",
    "_=plt.xticks( rotation=35)\n",
    "_=pl.set_title('New confirmed cases 7 day average')"
   ]
  },
  {
   "cell_type": "code",
   "execution_count": null,
   "metadata": {},
   "outputs": [],
   "source": [
    "sns.set()\n",
    "plt.figure(figsize = (20,6))\n",
    "pl = sns.barplot(x = df_us.date, y = df_us['DailyDeaths'])\n",
    "for ind, label in enumerate(pl.get_xticklabels()):\n",
    "    if ind % 10 == 0:  # every 10th label is kept\n",
    "        label.set_visible(True)\n",
    "    else:\n",
    "        label.set_visible(False)\n",
    "_=plt.xticks( rotation=35)\n",
    "_=pl.set_title('New confirmed deaths')"
   ]
  },
  {
   "cell_type": "code",
   "execution_count": null,
   "metadata": {},
   "outputs": [],
   "source": [
    "df_us['pandasD_SMA_7'] = df_us['DailyDeaths'].rolling(window=7).mean()\n",
    "plt.figure(figsize = (20,6))\n",
    "pl = sns.barplot(x = df_us.date, y = df_us['pandasD_SMA_7'])\n",
    "for ind, label in enumerate(pl.get_xticklabels()):\n",
    "    if ind % 10 == 0:  # every 10th label is kept\n",
    "        label.set_visible(True)\n",
    "    else:\n",
    "        label.set_visible(False)\n",
    "_=plt.xticks( rotation=35)\n",
    "_=pl.set_title('New confirmed deaths 7 day average')"
   ]
  },
  {
   "cell_type": "markdown",
   "metadata": {},
   "source": [
    "Adding graphs showing cases/100000 people for each location for better comparison:\n",
    "# Linear total cases per 1 000 000 people for LA County, Romania, and Mississippi "
   ]
  },
  {
   "cell_type": "code",
   "execution_count": null,
   "metadata": {},
   "outputs": [],
   "source": [
    "df[['LA_Conf_prop', 'Ro_Conf_prop', 'MS_Conf_prop']].plot(x_compat=True, figsize=(16,6))\n",
    "plt.show()"
   ]
  },
  {
   "cell_type": "markdown",
   "metadata": {},
   "source": [
    "# Log scale total cases per 1 000 000 people for LA County, Romania, and Mississippi "
   ]
  },
  {
   "cell_type": "code",
   "execution_count": null,
   "metadata": {},
   "outputs": [],
   "source": [
    "df[['LA_Conf_prop', 'Ro_Conf_prop', 'MS_Conf_prop']].plot(x_compat=True, figsize=(16,6))\n",
    "plt.yscale('log')\n",
    "plt.show()"
   ]
  },
  {
   "cell_type": "markdown",
   "metadata": {},
   "source": [
    "# Linear deaths recorded per 1 000 000 people for LA County, Romania, and Mississippi "
   ]
  },
  {
   "cell_type": "code",
   "execution_count": null,
   "metadata": {},
   "outputs": [],
   "source": [
    "df[['LA_Deaths_prop', 'Ro_Deaths_prop', 'MS_Deaths_prop']].plot(x_compat=True, figsize=(16,6))\n",
    "plt.show()"
   ]
  },
  {
   "cell_type": "markdown",
   "metadata": {},
   "source": [
    "# Log deaths recorded per 1 000 000 people for LA County, Romania, and Mississippi "
   ]
  },
  {
   "cell_type": "code",
   "execution_count": null,
   "metadata": {},
   "outputs": [],
   "source": [
    "df[['LA_Deaths_prop', 'Ro_Deaths_prop', 'MS_Deaths_prop']].plot(x_compat=True, figsize=(16,6))\n",
    "plt.yscale('log')\n",
    "plt.show()"
   ]
  },
  {
   "cell_type": "markdown",
   "metadata": {},
   "source": [
    "# Linear daily cases recorded per 1 000 000 people for LA County, Romania, and Mississippi "
   ]
  },
  {
   "cell_type": "code",
   "execution_count": null,
   "metadata": {},
   "outputs": [],
   "source": [
    "df[['LA_daily_prop', 'Ro_daily_prop', 'MS_daily_prop']].plot(x_compat=True, figsize=(16,6))\n",
    "plt.legend(loc=2)\n",
    "plt.show()"
   ]
  },
  {
   "cell_type": "markdown",
   "metadata": {},
   "source": [
    "# Log daily cases recorded per 1 000 000 people for LA County, Romania, and Mississippi "
   ]
  },
  {
   "cell_type": "code",
   "execution_count": null,
   "metadata": {},
   "outputs": [],
   "source": [
    "df[['LA_daily_prop', 'Ro_daily_prop', 'MS_daily_prop']].plot(x_compat=True, figsize=(16,6))\n",
    "plt.yscale('log')\n",
    "plt.show()"
   ]
  },
  {
   "cell_type": "markdown",
   "metadata": {},
   "source": [
    "# LA County daily cases"
   ]
  },
  {
   "cell_type": "code",
   "execution_count": null,
   "metadata": {},
   "outputs": [],
   "source": [
    "sns.set()\n",
    "plt.figure(figsize = (20,6))\n",
    "pl = sns.barplot(x = df.index, y = df['daily cases'])\n",
    "for ind, label in enumerate(pl.get_xticklabels()):\n",
    "    if ind % 10 == 0:  # every 10th label is kept\n",
    "        label.set_visible(True)\n",
    "    else:\n",
    "        label.set_visible(False)\n",
    "_=plt.xticks( rotation=35)\n",
    "_=pl.set_title('New confirmed cases')"
   ]
  },
  {
   "cell_type": "markdown",
   "metadata": {},
   "source": [
    "Plot 7 day average for the LA County new cases:"
   ]
  },
  {
   "cell_type": "code",
   "execution_count": null,
   "metadata": {},
   "outputs": [],
   "source": [
    "df['pandas_SMA_7'] = df['daily cases'].rolling(window=7).mean()\n",
    "sns.set()\n",
    "plt.figure(figsize = (20,6))\n",
    "pl = sns.barplot(x = df.index, y = df['pandas_SMA_7'])\n",
    "for ind, label in enumerate(pl.get_xticklabels()):\n",
    "    if ind % 15 == 0:  # every 15th label is kept\n",
    "        label.set_visible(True)\n",
    "    else:\n",
    "        label.set_visible(False)\n",
    "_=plt.xticks( rotation=35)\n",
    "_=pl.set_title('New confirmed cases on a 7 day rolling average smoothing')"
   ]
  },
  {
   "cell_type": "markdown",
   "metadata": {},
   "source": [
    "# LA County daily deaths raw and 7-day average"
   ]
  },
  {
   "cell_type": "code",
   "execution_count": null,
   "metadata": {
    "scrolled": true
   },
   "outputs": [],
   "source": [
    "\n",
    "sns.set()\n",
    "plt.figure(figsize = (20,6))\n",
    "pl = sns.barplot(x = df.index, y = df['DailyDeaths'])\n",
    "for ind, label in enumerate(pl.get_xticklabels()):\n",
    "    if ind % 10 == 0:  # every 10th label is kept\n",
    "        label.set_visible(True)\n",
    "    else:\n",
    "        label.set_visible(False)\n",
    "_=plt.xticks( rotation=35)\n",
    "_=pl.set_title('New deaths LA County')"
   ]
  },
  {
   "cell_type": "code",
   "execution_count": null,
   "metadata": {},
   "outputs": [],
   "source": [
    "df['deaths_SMA_7'] = df['DailyDeaths'].rolling(window=7).mean()\n",
    "#sns.set()\n",
    "plt.figure(figsize = (20,6))\n",
    "pl = sns.barplot(x = df.index, y = df['deaths_SMA_7'])\n",
    "for ind, label in enumerate(pl.get_xticklabels()):\n",
    "    if ind % 15 == 0:  # every 10th label is kept\n",
    "        label.set_visible(True)\n",
    "    else:\n",
    "        label.set_visible(False)\n",
    "_=plt.xticks( rotation=35)\n",
    "_=pl.set_title('New deaths in LA County on a 7 day rolling average smoothing')"
   ]
  },
  {
   "cell_type": "markdown",
   "metadata": {},
   "source": [
    "#                 Linear scale - all LA County data"
   ]
  },
  {
   "cell_type": "code",
   "execution_count": null,
   "metadata": {},
   "outputs": [],
   "source": [
    "df_LA = df[['confirmed cases', 'deaths', 'hospitalized', 'daily cases']]\n",
    "df_LA.plot(figsize=(18,10))\n",
    "plt.show()"
   ]
  },
  {
   "cell_type": "markdown",
   "metadata": {},
   "source": [
    "plot on a log scale to see the rate more accurately:\n",
    "# Log scale - all LA County data"
   ]
  },
  {
   "cell_type": "code",
   "execution_count": null,
   "metadata": {},
   "outputs": [],
   "source": [
    "df_LA = df[['confirmed cases', 'deaths', 'hospitalized', 'daily cases']]\n",
    "df_LA.plot(figsize=(18,10))\n",
    "plt.yscale('log')\n",
    "plt.show()"
   ]
  },
  {
   "cell_type": "markdown",
   "metadata": {},
   "source": [
    "A closer look at just the newly diagnosed cases every day (this is the more informative curve, which shows the number of people who have been sick and contagious for at least a week before they show up in this chart). The question is how many have these people infected before being diagnosed, and how much will this curve flatten in the next 2 weeks, when we're likely to start seeing the effects of the stay at home order. Cases in LA County in blue, in Romania in orange, and Mississippi in green)\n",
    "\n",
    "# Linear scale - comparison of cases per day for LA, RO and MS"
   ]
  },
  {
   "cell_type": "code",
   "execution_count": null,
   "metadata": {},
   "outputs": [],
   "source": [
    "df[['daily cases','RO-daily', 'MS-daily']].plot(x_compat=True, figsize=(16,6))\n",
    "plt.show()"
   ]
  },
  {
   "cell_type": "markdown",
   "metadata": {},
   "source": [
    "# Log scale - comparison of cases per day for LA, RO and MS"
   ]
  },
  {
   "cell_type": "code",
   "execution_count": null,
   "metadata": {},
   "outputs": [],
   "source": [
    "df[['daily cases','RO-daily', 'MS-daily']].plot(x_compat=True, figsize=(16,6))\n",
    "plt.yscale('log')\n",
    "plt.show()"
   ]
  },
  {
   "cell_type": "markdown",
   "metadata": {},
   "source": [
    "Nu am gasit date despre numarul de spitalizari in Romania - de aceea lipseste curba respectiva dupa data de 25 Martie.\n",
    "# Linear scale - all data for Romania cases "
   ]
  },
  {
   "cell_type": "code",
   "execution_count": null,
   "metadata": {},
   "outputs": [],
   "source": [
    "df_RO = df[['RO-confirmed', 'RO-deaths', 'RO-hospitalized', 'RO-daily']]\n",
    "df_RO.plot(figsize=(18,10))\n",
    "plt.show()\n",
    "print(df_RO.tail())"
   ]
  },
  {
   "cell_type": "markdown",
   "metadata": {},
   "source": [
    "# Log scale - all data for Romania cases "
   ]
  },
  {
   "cell_type": "code",
   "execution_count": null,
   "metadata": {},
   "outputs": [],
   "source": [
    "df_RO = df[['RO-confirmed', 'RO-deaths', 'RO-hospitalized', 'RO-daily']]\n",
    "df_RO.plot(figsize=(18,10))\n",
    "plt.yscale('log')\n",
    "plt.show()"
   ]
  },
  {
   "cell_type": "markdown",
   "metadata": {},
   "source": [
    "Comparison LA County(total population 10 105 000 people) to Romania (population 19 500 000) as of 2018.  Starting with total confirmed cases:\n",
    "Adding Mississippi - population of 3 980 000.\n",
    "\n",
    "# Linear scale - all data for Mississippi cases "
   ]
  },
  {
   "cell_type": "code",
   "execution_count": null,
   "metadata": {},
   "outputs": [],
   "source": [
    "df_MS = df[['MS-confirmed', 'MS-deaths', 'MS-hospitalized', 'MS-daily']]\n",
    "df_MS.plot(figsize=(18,10))\n",
    "plt.show()"
   ]
  },
  {
   "cell_type": "markdown",
   "metadata": {},
   "source": [
    "# Log scale - all data for Mississippi cases "
   ]
  },
  {
   "cell_type": "code",
   "execution_count": null,
   "metadata": {},
   "outputs": [],
   "source": [
    "df_MS = df[['MS-confirmed', 'MS-deaths', 'MS-hospitalized', 'MS-daily']]\n",
    "df_MS.plot(figsize=(18,10))\n",
    "plt.yscale('log')\n",
    "plt.show()"
   ]
  },
  {
   "cell_type": "markdown",
   "metadata": {},
   "source": [
    "# Linear scale - comparison data for all confirmed cases to date for LA, MS and RO"
   ]
  },
  {
   "cell_type": "code",
   "execution_count": null,
   "metadata": {},
   "outputs": [],
   "source": [
    "df[['confirmed cases','RO-confirmed', 'MS-confirmed']].plot(x_compat=True, figsize=(16,6))\n",
    "\n",
    "plt.show()"
   ]
  },
  {
   "cell_type": "markdown",
   "metadata": {},
   "source": [
    "# Log scale - comparison data for all confirmed cases to date for LA, MS and RO"
   ]
  },
  {
   "cell_type": "code",
   "execution_count": null,
   "metadata": {},
   "outputs": [],
   "source": [
    "df[['confirmed cases','RO-confirmed', 'MS-confirmed']].plot(x_compat=True, figsize=(16,6))\n",
    "plt.yscale('log')\n",
    "plt.show()"
   ]
  },
  {
   "cell_type": "markdown",
   "metadata": {},
   "source": [
    "Comparison of number of deaths (cummulative) between LA County (blue curve) and Romania (orange curve). Adding Mississippi\n",
    "# Linear scale - comparison data for all deaths to date for LA, MS and RO"
   ]
  },
  {
   "cell_type": "code",
   "execution_count": null,
   "metadata": {},
   "outputs": [],
   "source": [
    "df[['deaths','RO-deaths', 'MS-deaths']].plot(x_compat=True, figsize=(16,6))\n",
    "\n",
    "plt.show()"
   ]
  },
  {
   "cell_type": "markdown",
   "metadata": {},
   "source": [
    "# Log scale - comparison data for all deaths to date for LA, MS and RO"
   ]
  },
  {
   "cell_type": "code",
   "execution_count": null,
   "metadata": {},
   "outputs": [],
   "source": [
    "df[['deaths','RO-deaths', 'MS-deaths']].plot(x_compat=True, figsize=(16,6))\n",
    "plt.yscale('log')\n",
    "plt.show()"
   ]
  },
  {
   "cell_type": "markdown",
   "metadata": {},
   "source": [
    "\n",
    "# Linear scale - comparison data for daily deaths for LA, MS and RO"
   ]
  },
  {
   "cell_type": "code",
   "execution_count": null,
   "metadata": {},
   "outputs": [],
   "source": [
    "df[['DailyDeaths','DailyDeathsRo', 'DailyDeathsMs']].plot(x_compat=True, figsize=(16,6))\n",
    "\n",
    "plt.show()"
   ]
  },
  {
   "cell_type": "code",
   "execution_count": null,
   "metadata": {},
   "outputs": [],
   "source": [
    "df[['DailyDeaths','DailyDeathsRo', 'DailyDeathsMs']].plot(x_compat=True, figsize=(16,6))\n",
    "plt.yscale('log')\n",
    "plt.show()"
   ]
  },
  {
   "cell_type": "code",
   "execution_count": null,
   "metadata": {},
   "outputs": [],
   "source": [
    "import requests,datetime\n",
    "from bs4 import BeautifulSoup\n",
    "from datetime import timedelta\n",
    "  \n",
    "URL = \"http://publichealth.lacounty.gov/media/Coronavirus/\"\n",
    "\n",
    "r = requests.get(URL)  \n",
    "soup = BeautifulSoup(r.content, 'html5lib') \n",
    "the_text = soup.get_text()\n",
    "st_date = the_text\n",
    "date_md = [int(s) for s in st_date.split() if s.isdigit()]\n",
    "#print(soup.prettify())  \n",
    "new_data = []\n",
    "table = soup.findAll('div', attrs = {'class':'counter-block counter-text'})\n",
    "\n"
   ]
  },
  {
   "cell_type": "code",
   "execution_count": null,
   "metadata": {},
   "outputs": [],
   "source": [
    "field_names = ['date','ConfirmedCases','ActiveCases','RecoveredCases','Deaths']\n",
    "field_LA = ['confirmed cases', 'deaths', 'hospitalized', 'daily cases']\n",
    "field_RO = ['RO-confirmed', 'RO-deaths', 'RO-hospitalized', 'RO-daily']\n",
    "field_MS = ['MS-confirmed', 'MS-deaths', 'MS-hospitalized', 'MS-daily']\n",
    "# Append a dict as a row in csv file\n",
    "append_dict_as_row('global_cases_all.csv', testResult, field_names)\n",
    "append_dict_as_row('global_cases_us.csv', testUS, field_names)\n",
    "append_dict_as_row('global_cases_ro.csv', testRomania, field_names)\n",
    "append_dict_as_row('global_cases_ca.csv', testCA, field_names)\n",
    "append_dict_as_row('global_cases_ms.csv', testMS, field_names)\n"
   ]
  },
  {
   "cell_type": "code",
   "execution_count": null,
   "metadata": {},
   "outputs": [],
   "source": [
    "list_ro = []\n",
    "cols = ['date','ConfirmedCases','ActiveCases','RecoveredCases','Deaths']\n",
    "with open('global_cases_ro.csv', newline='') as csvfile:\n",
    "    reader = csv.DictReader(csvfile)\n",
    "    for row in reader:\n",
    "        list_ro.append([row['date'], row[' ConfirmedCases'], row[' ActiveCases'], row[' RecoveredCases'], row[' Deaths']])\n",
    "df_ro = pd.DataFrame(list_ro, columns = cols)\n",
    "df_ro['ConfirmedCases'] = df_ro['ConfirmedCases'].astype(str).astype(int)\n",
    "df_ro['ActiveCases'] = df_ro['ActiveCases'].astype(str).astype(int)\n",
    "df_ro['RecoveredCases'] = df_ro['RecoveredCases'].astype(str).astype(int)\n",
    "df_ro['Deaths'] = df_ro['Deaths'].astype(str).astype(int)\n",
    "df_ro['DailyCases'] = df_ro['ConfirmedCases'].diff(1)\n",
    "df_ro['DailyDeaths'] = df_ro['Deaths'].diff(1)\n",
    "\n",
    "df_ro.tail()"
   ]
  },
  {
   "cell_type": "markdown",
   "metadata": {},
   "source": [
    "# Romania new cases and daily deaths"
   ]
  },
  {
   "cell_type": "code",
   "execution_count": null,
   "metadata": {},
   "outputs": [],
   "source": [
    "sns.set()\n",
    "plt.figure(figsize = (20,6))\n",
    "pl = sns.barplot(x = df.index, y = df['RO-daily'])\n",
    "for ind, label in enumerate(pl.get_xticklabels()):\n",
    "    if ind % 10 == 0:  # every 10th label is kept\n",
    "        label.set_visible(True)\n",
    "    else:\n",
    "        label.set_visible(False)\n",
    "_=plt.xticks( rotation=35)\n",
    "_=pl.set_title('New confirmed cases Romania')"
   ]
  },
  {
   "cell_type": "code",
   "execution_count": null,
   "metadata": {},
   "outputs": [],
   "source": [
    "df['ro_SMA_7_daily'] = df['RO-daily'].rolling(window=7).mean()\n",
    "sns.set()\n",
    "plt.figure(figsize = (20,6))\n",
    "pl = sns.barplot(x = df.index, y = df['ro_SMA_7_daily'])\n",
    "for ind, label in enumerate(pl.get_xticklabels()):\n",
    "    if ind % 10 == 0:  # every 10th label is kept\n",
    "        label.set_visible(True)\n",
    "    else:\n",
    "        label.set_visible(False)\n",
    "_=plt.xticks( rotation=35)\n",
    "_=pl.set_title('New confirmed cases Romania 7 day smoothing')"
   ]
  },
  {
   "cell_type": "code",
   "execution_count": null,
   "metadata": {},
   "outputs": [],
   "source": [
    "sns.set()\n",
    "plt.figure(figsize = (20,6))\n",
    "pl = sns.barplot(x = df.index, y = df['DailyDeathsRo'])\n",
    "for ind, label in enumerate(pl.get_xticklabels()):\n",
    "    if ind % 10 == 0:  # every 10th label is kept\n",
    "        label.set_visible(True)\n",
    "    else:\n",
    "        label.set_visible(False)\n",
    "_=plt.xticks( rotation=35)\n",
    "_=pl.set_title('New confirmed deaths Romania')"
   ]
  },
  {
   "cell_type": "code",
   "execution_count": null,
   "metadata": {},
   "outputs": [],
   "source": [
    "df['ro_SMA_7_deaths'] = df['DailyDeathsRo'].rolling(window=7).mean()\n",
    "plt.figure(figsize = (20,6))\n",
    "pl = sns.barplot(x = df.index, y = df['ro_SMA_7_deaths'])\n",
    "for ind, label in enumerate(pl.get_xticklabels()):\n",
    "    if ind % 10 == 0:  # every 10th label is kept\n",
    "        label.set_visible(True)\n",
    "    else:\n",
    "        label.set_visible(False)\n",
    "_=plt.xticks( rotation=35)\n",
    "_=pl.set_title('New confirmed deaths 7 day smoothing Romania')"
   ]
  },
  {
   "cell_type": "code",
   "execution_count": null,
   "metadata": {},
   "outputs": [],
   "source": [
    "list_ca = []\n",
    "cols = ['date','ConfirmedCases','ActiveCases','RecoveredCases','Deaths']\n",
    "with open('global_cases_ca.csv', newline='') as csvfile:\n",
    "    reader = csv.DictReader(csvfile)\n",
    "    for row in reader:\n",
    "        list_ca.append([row['date'], row[' ConfirmedCases'], row[' ActiveCases'], row[' RecoveredCases'], row[' Deaths']])\n",
    "df_ca = pd.DataFrame(list_ca, columns = cols)\n",
    "df_ca['ConfirmedCases'] = df_ca['ConfirmedCases'].astype(str).astype(int)\n",
    "df_ca['ActiveCases'] = df_ca['ActiveCases'].astype(str).astype(int)\n",
    "df_ca['RecoveredCases'] = df_ca['RecoveredCases'].astype(str).astype(int)\n",
    "df_ca['Deaths'] = df_ca['Deaths'].astype(str).astype(int)\n",
    "df_ca['DailyCases'] = df_ca['ConfirmedCases'].diff(1)\n",
    "df_ca['DailyDeaths'] = df_ca['Deaths'].diff(1)\n",
    "\n",
    "df_ca.tail()\n"
   ]
  },
  {
   "cell_type": "markdown",
   "metadata": {},
   "source": [
    "# California daily cases and daily deaths"
   ]
  },
  {
   "cell_type": "code",
   "execution_count": null,
   "metadata": {},
   "outputs": [],
   "source": [
    "sns.set()\n",
    "plt.figure(figsize = (20,6))\n",
    "pl = sns.barplot(x = df_ca.date, y = df_ca['DailyCases'])\n",
    "for ind, label in enumerate(pl.get_xticklabels()):\n",
    "    if ind % 5 == 0:  # every 5th label is kept\n",
    "        label.set_visible(True)\n",
    "    else:\n",
    "        label.set_visible(False)\n",
    "_=plt.xticks( rotation=35)\n",
    "_=pl.set_title('New confirmed cases California')"
   ]
  },
  {
   "cell_type": "code",
   "execution_count": null,
   "metadata": {},
   "outputs": [],
   "source": [
    "sns.set()\n",
    "plt.figure(figsize = (20,6))\n",
    "pl = sns.barplot(x = df_ca.date, y = df_ca['DailyDeaths'])\n",
    "for ind, label in enumerate(pl.get_xticklabels()):\n",
    "    if ind % 7 == 0:  # every 7th label is kept\n",
    "        label.set_visible(True)\n",
    "    else:\n",
    "        label.set_visible(False)\n",
    "_=plt.xticks( rotation=35)\n",
    "_=pl.set_title('New confirmed deaths California')"
   ]
  },
  {
   "cell_type": "code",
   "execution_count": null,
   "metadata": {},
   "outputs": [],
   "source": [
    "list_ms = []\n",
    "cols = ['date','ConfirmedCases','ActiveCases','RecoveredCases','Deaths']\n",
    "with open('global_cases_ms.csv', newline='') as csvfile:\n",
    "    reader = csv.DictReader(csvfile)\n",
    "    for row in reader:\n",
    "        list_ms.append([row['date'], row[' ConfirmedCases'], row[' ActiveCases'], row[' RecoveredCases'], row[' Deaths']])\n",
    "df_ms = pd.DataFrame(list_ms, columns = cols)\n",
    "df_ms['ConfirmedCases'] = df_ms['ConfirmedCases'].astype(str).astype(int)\n",
    "df_ms['ActiveCases'] = df_ms['ActiveCases'].astype(str).astype(int)\n",
    "df_ms['RecoveredCases'] = df_ms['RecoveredCases'].astype(str).astype(int)\n",
    "df_ms['Deaths'] = df_ms['Deaths'].astype(str).astype(int)\n",
    "df_ms['DailyCases'] = df_ms['ConfirmedCases'].diff(1)\n",
    "df_ms['DailyDeaths'] = df_ms['Deaths'].diff(1)\n",
    "\n",
    "df_ms.tail()"
   ]
  },
  {
   "cell_type": "markdown",
   "metadata": {},
   "source": [
    "# Mississippi daily cases and daily deaths"
   ]
  },
  {
   "cell_type": "code",
   "execution_count": null,
   "metadata": {},
   "outputs": [],
   "source": [
    "#sns.set()\n",
    "plt.figure(figsize = (20,6))\n",
    "pl = sns.barplot(x = df.index, y = df['MS-daily'])\n",
    "for ind, label in enumerate(pl.get_xticklabels()):\n",
    "    if ind % 10 == 0:  # every 10th label is kept\n",
    "        label.set_visible(True)\n",
    "    else:\n",
    "        label.set_visible(False)\n",
    "_=plt.xticks( rotation=35)\n",
    "_=pl.set_title('New confirmed cases Mississippi')"
   ]
  },
  {
   "cell_type": "code",
   "execution_count": null,
   "metadata": {},
   "outputs": [],
   "source": [
    "df['ms_SMA_7_daily']  =df['MS-daily'].rolling(window=7).mean()\n",
    "#sns.set()\n",
    "plt.figure(figsize = (20,6))\n",
    "pl = sns.barplot(x = df.index, y = df['ms_SMA_7_daily'])\n",
    "for ind, label in enumerate(pl.get_xticklabels()):\n",
    "    if ind % 10 == 0:  # every 10th label is kept\n",
    "        label.set_visible(True)\n",
    "    else:\n",
    "        label.set_visible(False)\n",
    "_=plt.xticks( rotation=35)\n",
    "_=pl.set_title('New confirmed cases Mississippi 7 day average')"
   ]
  },
  {
   "cell_type": "code",
   "execution_count": null,
   "metadata": {},
   "outputs": [],
   "source": [
    "sns.set()\n",
    "plt.figure(figsize = (20,6))\n",
    "pl = sns.barplot(x = df.index, y = df['DailyDeathsMs'])\n",
    "for ind, label in enumerate(pl.get_xticklabels()):\n",
    "    if ind % 10 == 0:  # every 10th label is kept\n",
    "        label.set_visible(True)\n",
    "    else:\n",
    "        label.set_visible(False)\n",
    "_=plt.xticks( rotation=35)\n",
    "_=pl.set_title('New confirmed deaths Mississippi')"
   ]
  },
  {
   "cell_type": "code",
   "execution_count": null,
   "metadata": {},
   "outputs": [],
   "source": [
    "df['ms_SMA_7_deaths'] = df['DailyDeathsMs'].rolling(window=7).mean()\n",
    "sns.set()\n",
    "plt.figure(figsize = (20,6))\n",
    "pl = sns.barplot(x = df.index, y = df['ms_SMA_7_deaths'])\n",
    "for ind, label in enumerate(pl.get_xticklabels()):\n",
    "    if ind % 10 == 0:  # every 10th label is kept\n",
    "        label.set_visible(True)\n",
    "    else:\n",
    "        label.set_visible(False)\n",
    "_=plt.xticks( rotation=35)\n",
    "_=pl.set_title('New confirmed deaths Mississippi 7 day average')"
   ]
  },
  {
   "cell_type": "markdown",
   "metadata": {},
   "source": [
    "# 7 Day Average of daily new cases (LA, MS, Ro)"
   ]
  },
  {
   "cell_type": "code",
   "execution_count": null,
   "metadata": {},
   "outputs": [],
   "source": [
    "df[['pandas_SMA_7', 'ro_SMA_7_daily', 'ms_SMA_7_daily']].plot(x_compat = True, figsize = (16,6))\n",
    "plt.show()"
   ]
  },
  {
   "cell_type": "markdown",
   "metadata": {},
   "source": [
    "# 7 Day Average of daily deaths (LA, MS, Ro)"
   ]
  },
  {
   "cell_type": "code",
   "execution_count": null,
   "metadata": {},
   "outputs": [],
   "source": [
    "\n",
    "df[['deaths_SMA_7', 'ro_SMA_7_deaths', 'ms_SMA_7_deaths']].plot(x_compat=True, figsize=(16,6))\n",
    "\n",
    "plt.show()"
   ]
  },
  {
   "cell_type": "code",
   "execution_count": null,
   "metadata": {},
   "outputs": [],
   "source": [
    "\n",
    "from datetime import timedelta\n",
    "  \n",
    "URL = \"http://publichealth.lacounty.gov/media/Coronavirus/\"\n",
    "\n",
    "r = requests.get(URL)  \n",
    "soup = BeautifulSoup(r.content, 'html5lib') \n",
    "the_text = soup.get_text()\n",
    "st_date = the_text\n",
    "date_md = [int(s) for s in st_date.split() if s.isdigit()]\n",
    "#print(soup.prettify())  \n",
    "new_data = []\n",
    "table = soup.findAll('div', attrs = {'class':'counter-block counter-text'})\n",
    "#dt_txt = soup.find('div', attrs = {'class': 'col-md-12 center'})\n",
    "#all_text = dt_txt.get_text()\n",
    "#new_dt = [int(s) for s in all_text.split() if s.isdigit()]\n",
    "#print(new_dt)\n",
    "#if len(table) > 2:\n",
    "#    print('Need to take a look, format of page has changed')\n",
    "#for row in table: \n",
    "#    print(row.text)\n",
    "#    new_data.append(int(row.text))\n",
    "     \n",
    "#print(new_data)\n"
   ]
  },
  {
   "cell_type": "markdown",
   "metadata": {},
   "source": [
    "TO DO: \n",
    "    1. improve and fix scrapers for data - done; still needed for LA County data\n",
    "    2. plot 7 day averages - done;\n",
    "    3. build prediction models"
   ]
  },
  {
   "cell_type": "code",
   "execution_count": null,
   "metadata": {},
   "outputs": [],
   "source": [
    "5*52*5"
   ]
  },
  {
   "cell_type": "code",
   "execution_count": null,
   "metadata": {},
   "outputs": [],
   "source": []
  }
 ],
 "metadata": {
  "kernelspec": {
   "display_name": "Python 3",
   "language": "python",
   "name": "python3"
  },
  "language_info": {
   "codemirror_mode": {
    "name": "ipython",
    "version": 3
   },
   "file_extension": ".py",
   "mimetype": "text/x-python",
   "name": "python",
   "nbconvert_exporter": "python",
   "pygments_lexer": "ipython3",
   "version": "3.7.2"
  }
 },
 "nbformat": 4,
 "nbformat_minor": 2
}
