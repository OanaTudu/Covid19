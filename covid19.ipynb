{
 "cells": [
  {
   "cell_type": "markdown",
   "metadata": {},
   "source": [
    "A very quick look at the evolving coronavirus cases in LA County, starting with Jan 21st, when the first case got diagnosed in the county. Data comes from the LA County Public Health website:\n",
    "http://publichealth.lacounty.gov/media/Coronavirus/\n",
    "I am updating the data as it comes in. "
   ]
  },
  {
   "cell_type": "code",
   "execution_count": null,
   "metadata": {},
   "outputs": [],
   "source": [
    "import pandas as pd\n",
    "from matplotlib import pyplot as plt\n",
    "import numpy as np\n",
    "import seaborn as sns\n",
    "\n",
    "df = pd.read_csv('LACountyCovid.csv', header=0, index_col=0, squeeze=True)\n",
    "df.index = pd.to_datetime(df.index)\n",
    "df.index.name = 'date'\n"
   ]
  },
  {
   "cell_type": "markdown",
   "metadata": {},
   "source": [
    "An overview of total cases (minus recovered, but including deaths) in blue, daily new cases (in red), hospitalized at the moment (so cummulative) in green, and number of deaths registered (also cummulative) - in orange"
   ]
  },
  {
   "cell_type": "code",
   "execution_count": null,
   "metadata": {},
   "outputs": [],
   "source": [
    "print(df.tail())\n",
    "\n",
    "pop_Ro = 19530000\n",
    "pop_LA = 10118759\n",
    "pop_MS = 2987000\n",
    "df['Ro_Conf_prop'] = df.apply(lambda row: row['RO-confirmed'] * 100000 / pop_Ro, axis = 1) \n",
    "df['Ro_Deaths_prop'] = df.apply(lambda row: row['RO-deaths'] * 100000 / pop_Ro, axis = 1) \n",
    "df['Ro_daily_prop'] = df.apply(lambda row: row['RO-daily'] * 100000 / pop_Ro, axis = 1) \n",
    "\n",
    "df['LA_Conf_prop'] = df.apply(lambda row: row['confirmed cases'] * 100000 / pop_LA, axis = 1) \n",
    "df['LA_Deaths_prop'] = df.apply(lambda row: row['deaths'] * 100000 / pop_LA, axis = 1) \n",
    "df['LA_daily_prop'] = df.apply(lambda row: row['daily cases'] * 100000 / pop_LA, axis = 1) \n",
    "\n",
    "df['MS_Conf_prop'] = df.apply(lambda row: row['MS-confirmed'] * 100000 / pop_MS, axis = 1) \n",
    "df['MS_Deaths_prop'] = df.apply(lambda row: row['MS-deaths'] * 100000 / pop_MS, axis = 1) \n",
    "df['MS_daily_prop'] = df.apply(lambda row: row['MS-daily'] * 100000 / pop_MS, axis = 1) \n",
    "print(df.tail())"
   ]
  },
  {
   "cell_type": "markdown",
   "metadata": {},
   "source": [
    "Adding graphs showing cases/100000 people for each location for better comparison:\n",
    "# Linear total cases per 100 000 people for LA County, Romania, and Mississippi "
   ]
  },
  {
   "cell_type": "code",
   "execution_count": null,
   "metadata": {},
   "outputs": [],
   "source": [
    "df[['LA_Conf_prop', 'Ro_Conf_prop', 'MS_Conf_prop']].plot(x_compat=True, figsize=(16,6))\n",
    "plt.show()"
   ]
  },
  {
   "cell_type": "markdown",
   "metadata": {},
   "source": [
    "# Log scale total cases per 100 000 people for LA County, Romania, and Mississippi "
   ]
  },
  {
   "cell_type": "code",
   "execution_count": null,
   "metadata": {},
   "outputs": [],
   "source": [
    "df[['LA_Conf_prop', 'Ro_Conf_prop', 'MS_Conf_prop']].plot(x_compat=True, figsize=(16,6))\n",
    "plt.yscale('log')\n",
    "plt.show()"
   ]
  },
  {
   "cell_type": "markdown",
   "metadata": {},
   "source": [
    "# Linear deaths recorded per 100 000 people for LA County, Romania, and Mississippi "
   ]
  },
  {
   "cell_type": "code",
   "execution_count": null,
   "metadata": {},
   "outputs": [],
   "source": [
    "df[['LA_Deaths_prop', 'Ro_Deaths_prop', 'MS_Deaths_prop']].plot(x_compat=True, figsize=(16,6))\n",
    "plt.show()"
   ]
  },
  {
   "cell_type": "markdown",
   "metadata": {},
   "source": [
    "# Log deaths recorded per 100 000 people for LA County, Romania, and Mississippi "
   ]
  },
  {
   "cell_type": "code",
   "execution_count": null,
   "metadata": {},
   "outputs": [],
   "source": [
    "df[['LA_Deaths_prop', 'Ro_Deaths_prop', 'MS_Deaths_prop']].plot(x_compat=True, figsize=(16,6))\n",
    "plt.yscale('log')\n",
    "plt.show()"
   ]
  },
  {
   "cell_type": "markdown",
   "metadata": {},
   "source": [
    "# Linear daily cases recorded per 100 000 people for LA County, Romania, and Mississippi "
   ]
  },
  {
   "cell_type": "code",
   "execution_count": null,
   "metadata": {},
   "outputs": [],
   "source": [
    "df[['LA_daily_prop', 'Ro_daily_prop', 'MS_daily_prop']].plot(x_compat=True, figsize=(16,6))\n",
    "plt.legend(loc=2)\n",
    "plt.show()"
   ]
  },
  {
   "cell_type": "markdown",
   "metadata": {},
   "source": [
    "# Log daily cases recorded per 100 000 people for LA County, Romania, and Mississippi "
   ]
  },
  {
   "cell_type": "code",
   "execution_count": null,
   "metadata": {},
   "outputs": [],
   "source": [
    "df[['LA_daily_prop', 'Ro_daily_prop', 'MS_daily_prop']].plot(x_compat=True, figsize=(16,6))\n",
    "plt.yscale('log')\n",
    "plt.show()"
   ]
  },
  {
   "cell_type": "markdown",
   "metadata": {},
   "source": [
    "#                 Linear scale - all LA County data"
   ]
  },
  {
   "cell_type": "code",
   "execution_count": null,
   "metadata": {},
   "outputs": [],
   "source": [
    "df_LA = df[['confirmed cases', 'deaths', 'hospitalized', 'daily cases']]\n",
    "df_LA.plot(figsize=(18,10))\n",
    "plt.show()"
   ]
  },
  {
   "cell_type": "markdown",
   "metadata": {},
   "source": [
    "plot on a log scale to see the rate more accurately:\n",
    "# Log scale - all LA County data"
   ]
  },
  {
   "cell_type": "code",
   "execution_count": null,
   "metadata": {},
   "outputs": [],
   "source": [
    "df_LA = df[['confirmed cases', 'deaths', 'hospitalized', 'daily cases']]\n",
    "df_LA.plot(figsize=(18,10))\n",
    "plt.yscale('log')\n",
    "plt.show()"
   ]
  },
  {
   "cell_type": "markdown",
   "metadata": {},
   "source": [
    "A closer look at just the newly diagnosed cases every day (this is the more informative curve, which shows the number of people who have been sick and contagious for at least a week before they show up in this chart). The question is how many have these people infected before being diagnosed, and how much will this curve flatten in the next 2 weeks, when we're likely to start seeing the effects of the stay at home order. Cases in LA County in blue, in Romania in orange, and Mississippi in green)\n",
    "\n",
    "# Linear scale - comparison of cases per day for LA, RO and MS"
   ]
  },
  {
   "cell_type": "code",
   "execution_count": null,
   "metadata": {},
   "outputs": [],
   "source": [
    "df[['daily cases','RO-daily', 'MS-daily']].plot(x_compat=True, figsize=(16,6))\n",
    "plt.show()"
   ]
  },
  {
   "cell_type": "markdown",
   "metadata": {},
   "source": [
    "# Log scale - comparison of cases per day for LA, RO and MS"
   ]
  },
  {
   "cell_type": "code",
   "execution_count": null,
   "metadata": {},
   "outputs": [],
   "source": [
    "df[['daily cases','RO-daily', 'MS-daily']].plot(x_compat=True, figsize=(16,6))\n",
    "plt.yscale('log')\n",
    "plt.show()"
   ]
  },
  {
   "cell_type": "code",
   "execution_count": null,
   "metadata": {},
   "outputs": [],
   "source": [
    "pl = sns.barplot(x = df.index, y = df['daily cases'])\n",
    "_=plt.xticks(np.arange(df.shape[0])[::1], df.index[0:0:1], rotation=35)\n",
    "\n",
    "pl.set_title('New confirmed cases')"
   ]
  },
  {
   "cell_type": "markdown",
   "metadata": {},
   "source": [
    "Nu am gasit date despre numarul de spitalizari in Romania - de aceea lipseste curba respectiva dupa data de 25 Martie.\n",
    "# Linear scale - all data for Romania cases "
   ]
  },
  {
   "cell_type": "code",
   "execution_count": null,
   "metadata": {},
   "outputs": [],
   "source": [
    "df_RO = df[['RO-confirmed', 'RO-deaths', 'RO-hospitalized', 'RO-daily']]\n",
    "df_RO.plot(figsize=(18,10))\n",
    "plt.show()\n",
    "print(df_RO.tail())"
   ]
  },
  {
   "cell_type": "markdown",
   "metadata": {},
   "source": [
    "# Log scale - all data for Romania cases "
   ]
  },
  {
   "cell_type": "code",
   "execution_count": null,
   "metadata": {},
   "outputs": [],
   "source": [
    "df_RO = df[['RO-confirmed', 'RO-deaths', 'RO-hospitalized', 'RO-daily']]\n",
    "df_RO.plot(figsize=(18,10))\n",
    "plt.yscale('log')\n",
    "plt.show()"
   ]
  },
  {
   "cell_type": "markdown",
   "metadata": {},
   "source": [
    "Comparison LA County(total population 10 105 000 people) to Romania (population 19 500 000) as of 2018.  Starting with total confirmed cases:\n",
    "Adding Mississippi - population of 3 980 000.\n",
    "\n",
    "# Linear scale - all data for Mississippi cases "
   ]
  },
  {
   "cell_type": "code",
   "execution_count": null,
   "metadata": {},
   "outputs": [],
   "source": [
    "df_MS = df[['MS-confirmed', 'MS-deaths', 'MS-hospitalized', 'MS-daily']]\n",
    "df_MS.plot(figsize=(18,10))\n",
    "plt.show()"
   ]
  },
  {
   "cell_type": "markdown",
   "metadata": {},
   "source": [
    "# Log scale - all data for Mississippi cases "
   ]
  },
  {
   "cell_type": "code",
   "execution_count": null,
   "metadata": {},
   "outputs": [],
   "source": [
    "df_MS = df[['MS-confirmed', 'MS-deaths', 'MS-hospitalized', 'MS-daily']]\n",
    "df_MS.plot(figsize=(18,10))\n",
    "plt.yscale('log')\n",
    "plt.show()"
   ]
  },
  {
   "cell_type": "markdown",
   "metadata": {},
   "source": [
    "# Linear scale - comparison data for all confirmed cases to date for LA, MS and RO"
   ]
  },
  {
   "cell_type": "code",
   "execution_count": null,
   "metadata": {},
   "outputs": [],
   "source": [
    "df[['confirmed cases','RO-confirmed', 'MS-confirmed']].plot(x_compat=True, figsize=(16,6))\n",
    "\n",
    "plt.show()"
   ]
  },
  {
   "cell_type": "markdown",
   "metadata": {},
   "source": [
    "# Log scale - comparison data for all confirmed cases to date for LA, MS and RO"
   ]
  },
  {
   "cell_type": "code",
   "execution_count": null,
   "metadata": {},
   "outputs": [],
   "source": [
    "df[['confirmed cases','RO-confirmed', 'MS-confirmed']].plot(x_compat=True, figsize=(16,6))\n",
    "plt.yscale('log')\n",
    "plt.show()"
   ]
  },
  {
   "cell_type": "markdown",
   "metadata": {},
   "source": [
    "Comparison of number of deaths (cummulative) between LA County (blue curve) and Romania (orange curve). Adding Mississippi\n",
    "# Linear scale - comparison data for all deaths to date for LA, MS and RO"
   ]
  },
  {
   "cell_type": "code",
   "execution_count": null,
   "metadata": {},
   "outputs": [],
   "source": [
    "df[['deaths','RO-deaths', 'MS-deaths']].plot(x_compat=True, figsize=(16,6))\n",
    "\n",
    "plt.show()"
   ]
  },
  {
   "cell_type": "markdown",
   "metadata": {},
   "source": [
    "# Log scale - comparison data for all deaths to date for LA, MS and RO"
   ]
  },
  {
   "cell_type": "code",
   "execution_count": null,
   "metadata": {},
   "outputs": [],
   "source": [
    "df[['deaths','RO-deaths', 'MS-deaths']].plot(x_compat=True, figsize=(16,6))\n",
    "plt.yscale('log')\n",
    "plt.show()"
   ]
  },
  {
   "cell_type": "code",
   "execution_count": null,
   "metadata": {},
   "outputs": [],
   "source": [
    "import requests \n",
    "from bs4 import BeautifulSoup \n",
    "from datetime import timedelta\n",
    "  \n",
    "URL = \"http://publichealth.lacounty.gov/media/Coronavirus/\"\n",
    "\n",
    "r = requests.get(URL)  \n",
    "soup = BeautifulSoup(r.content, 'html5lib') \n",
    "the_text = soup.get_text()\n",
    "st_date = the_text\n",
    "date_md = [int(s) for s in st_date.split() if s.isdigit()]\n",
    "#print(soup.prettify())  \n",
    "new_data = []\n",
    "table = soup.findAll('div', attrs = {'class':'counter-block counter-text'})\n",
    "dt_txt = soup.find('div', attrs = {'class': 'col-md-12 center'})\n",
    "all_text = dt_txt.get_text()\n",
    "new_dt = [int(s) for s in all_text.split() if s.isdigit()]\n",
    "print(new_dt)\n",
    "if len(table) > 2:\n",
    "    print('Need to take a look, format of page has changed')\n",
    "for row in table: \n",
    "    print(row.text)\n",
    "    new_data.append(int(row.text))\n",
    "     \n",
    "print(new_data)\n"
   ]
  },
  {
   "cell_type": "code",
   "execution_count": null,
   "metadata": {},
   "outputs": [],
   "source": []
  },
  {
   "cell_type": "code",
   "execution_count": null,
   "metadata": {},
   "outputs": [],
   "source": []
  },
  {
   "cell_type": "code",
   "execution_count": null,
   "metadata": {},
   "outputs": [],
   "source": []
  }
 ],
 "metadata": {
  "kernelspec": {
   "display_name": "Python 3",
   "language": "python",
   "name": "python3"
  },
  "language_info": {
   "codemirror_mode": {
    "name": "ipython",
    "version": 3
   },
   "file_extension": ".py",
   "mimetype": "text/x-python",
   "name": "python",
   "nbconvert_exporter": "python",
   "pygments_lexer": "ipython3",
   "version": "3.7.2"
  }
 },
 "nbformat": 4,
 "nbformat_minor": 2
}
