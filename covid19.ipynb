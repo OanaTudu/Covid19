{
 "cells": [
  {
   "cell_type": "markdown",
   "metadata": {},
   "source": [
    "A very quick look at the evolving coronavirus cases in LA County, starting with Jan 21st, when the first case got diagnosed in the county. Data comes from the LA County Public Health website:\n",
    "http://publichealth.lacounty.gov/media/Coronavirus/\n",
    "I am updating the data as it comes in. "
   ]
  },
  {
   "cell_type": "code",
   "execution_count": 1,
   "metadata": {},
   "outputs": [],
   "source": [
    "import pandas as pd\n",
    "from matplotlib import pyplot as plt\n",
    "import numpy as np\n",
    "import seaborn as sns\n",
    "import requests,datetime\n",
    "from bs4 import BeautifulSoup\n",
    "from datetime import timedelta\n",
    "\n",
    "\n",
    "df = pd.read_csv('LACountyCovid.csv', header=0, index_col=0, squeeze=True)\n",
    "df.index = pd.to_datetime(df.index)\n",
    "df.index.name = 'date'\n"
   ]
  },
  {
   "cell_type": "markdown",
   "metadata": {},
   "source": [
    "An overview of total cases (minus recovered, but including deaths) in blue, daily new cases (in red), hospitalized at the moment (so cummulative) in green, and number of deaths registered (also cummulative) - in orange"
   ]
  },
  {
   "cell_type": "code",
   "execution_count": 2,
   "metadata": {},
   "outputs": [
    {
     "name": "stdout",
     "output_type": "stream",
     "text": [
      "            confirmed cases  deaths  hospitalized  daily cases   month  \\\n",
      "date                                                                     \n",
      "2020-08-10         211808.0  5057.0        1524.0       1440.0  August   \n",
      "2020-08-11         214197.0  5109.0        1538.0       2428.0  August   \n",
      "2020-08-12         216139.0  5171.0        1481.0       1999.0  August   \n",
      "2020-08-13              NaN     NaN           NaN          NaN  August   \n",
      "NaT                     NaN     NaN           NaN          NaN     NaN   \n",
      "\n",
      "            RO-confirmed  RO-deaths  RO-hospitalized  RO-daily  MS-confirmed  \\\n",
      "date                                                                           \n",
      "2020-08-10         61768       2700              NaN      1145       69374.0   \n",
      "2020-08-11         62547       2729              NaN       779       69986.0   \n",
      "2020-08-12         63762       2764              NaN      1215           NaN   \n",
      "2020-08-13         65177       2807              NaN      1415           NaN   \n",
      "NaT                66631       2860              NaN      1454           NaN   \n",
      "\n",
      "            MS-deaths  MS-hospitalized  MS-daily  \n",
      "date                                              \n",
      "2020-08-10     1989.0              NaN    1081.0  \n",
      "2020-08-11     2011.0              NaN     612.0  \n",
      "2020-08-12        NaN              NaN       NaN  \n",
      "2020-08-13        NaN              NaN       NaN  \n",
      "NaT               NaN              NaN       NaN  \n",
      "            confirmed cases  deaths  hospitalized  daily cases   month  \\\n",
      "date                                                                     \n",
      "2020-08-10         211808.0  5057.0        1524.0       1440.0  August   \n",
      "2020-08-11         214197.0  5109.0        1538.0       2428.0  August   \n",
      "2020-08-12         216139.0  5171.0        1481.0       1999.0  August   \n",
      "2020-08-13              NaN     NaN           NaN          NaN  August   \n",
      "NaT                     NaN     NaN           NaN          NaN     NaN   \n",
      "\n",
      "            RO-confirmed  RO-deaths  RO-hospitalized  RO-daily  MS-confirmed  \\\n",
      "date                                                                           \n",
      "2020-08-10         61768       2700              NaN      1145       69374.0   \n",
      "2020-08-11         62547       2729              NaN       779       69986.0   \n",
      "2020-08-12         63762       2764              NaN      1215           NaN   \n",
      "2020-08-13         65177       2807              NaN      1415           NaN   \n",
      "NaT                66631       2860              NaN      1454           NaN   \n",
      "\n",
      "                ...        MS-daily  Ro_Conf_prop  Ro_Deaths_prop  \\\n",
      "date            ...                                                 \n",
      "2020-08-10      ...          1081.0   3162.724014      138.248848   \n",
      "2020-08-11      ...           612.0   3202.611367      139.733743   \n",
      "2020-08-12      ...             NaN   3264.823349      141.525858   \n",
      "2020-08-13      ...             NaN   3337.275986      143.727599   \n",
      "NaT             ...             NaN   3411.725550      146.441372   \n",
      "\n",
      "            Ro_daily_prop  LA_Conf_prop  LA_Deaths_prop  LA_daily_prop  \\\n",
      "date                                                                     \n",
      "2020-08-10      58.627752  20932.211154      499.764843     142.309941   \n",
      "2020-08-11      39.887353  21168.307299      504.903813     239.950373   \n",
      "2020-08-12      62.211982  21360.228067      511.031046     197.553870   \n",
      "2020-08-13      72.452637           NaN             NaN            NaN   \n",
      "NaT             74.449565           NaN             NaN            NaN   \n",
      "\n",
      "            MS_Conf_prop  MS_Deaths_prop  MS_daily_prop  \n",
      "date                                                     \n",
      "2020-08-10  23225.309675      665.885504     361.901573  \n",
      "2020-08-11  23430.197523      673.250753     204.887847  \n",
      "2020-08-12           NaN             NaN            NaN  \n",
      "2020-08-13           NaN             NaN            NaN  \n",
      "NaT                  NaN             NaN            NaN  \n",
      "\n",
      "[5 rows x 22 columns]\n"
     ]
    }
   ],
   "source": [
    "print(df.tail())\n",
    "\n",
    "pop_Ro = 19530000\n",
    "pop_LA = 10118759\n",
    "pop_MS = 2987000\n",
    "df['Ro_Conf_prop'] = df.apply(lambda row: row['RO-confirmed'] * 1000000 / pop_Ro, axis = 1) \n",
    "df['Ro_Deaths_prop'] = df.apply(lambda row: row['RO-deaths'] * 1000000 / pop_Ro, axis = 1) \n",
    "df['Ro_daily_prop'] = df.apply(lambda row: row['RO-daily'] * 1000000 / pop_Ro, axis = 1) \n",
    "\n",
    "df['LA_Conf_prop'] = df.apply(lambda row: row['confirmed cases'] * 1000000 / pop_LA, axis = 1) \n",
    "df['LA_Deaths_prop'] = df.apply(lambda row: row['deaths'] * 1000000 / pop_LA, axis = 1) \n",
    "df['LA_daily_prop'] = df.apply(lambda row: row['daily cases'] * 1000000 / pop_LA, axis = 1) \n",
    "\n",
    "df['MS_Conf_prop'] = df.apply(lambda row: row['MS-confirmed'] * 1000000 / pop_MS, axis = 1) \n",
    "df['MS_Deaths_prop'] = df.apply(lambda row: row['MS-deaths'] * 1000000 / pop_MS, axis = 1) \n",
    "df['MS_daily_prop'] = df.apply(lambda row: row['MS-daily'] * 1000000 / pop_MS, axis = 1) \n",
    "print(df.tail())"
   ]
  },
  {
   "cell_type": "code",
   "execution_count": 3,
   "metadata": {},
   "outputs": [],
   "source": [
    "def scrapeGlobalCase (url):\n",
    "    try:\n",
    "        #url = \"https://www.worldometers.info/coronavirus/\"\n",
    "        req = requests.get(url)\n",
    "        bsObj = BeautifulSoup(req.text, \"html.parser\")\n",
    "        data = bsObj.find_all(\"div\",class_ = \"maincounter-number\")\n",
    "        NumConfirmed = int(data[0].text.strip().replace(',', ''))\n",
    "        NumDeaths = int(data[1].text.strip().replace(',', ''))\n",
    "        NumRecovered = int(data[2].text.strip().replace(',', ''))\n",
    "        NumActive = NumConfirmed - NumDeaths - NumRecovered\n",
    "        TimeNow = datetime.datetime.now()\n",
    "        return {\n",
    "            'date': str(TimeNow),\n",
    "            'ConfirmedCases': NumConfirmed,\n",
    "            'ActiveCases': NumActive,\n",
    "            'RecoveredCases': NumRecovered,\n",
    "            'Deaths': NumDeaths\n",
    "        }\n",
    "    except Exception as e: print(e)\n",
    "\n",
    "\n"
   ]
  },
  {
   "cell_type": "code",
   "execution_count": 4,
   "metadata": {},
   "outputs": [],
   "source": [
    "url_ro = \"https://www.worldometers.info/coronavirus/country/romania/\"\n",
    "url_global = \"https://www.worldometers.info/coronavirus/\"\n",
    "url_us = \"https://www.worldometers.info/coronavirus/country/us/\"\n",
    "url_california = \"https://www.worldometers.info/coronavirus/usa/california/\"\n",
    "url_ms = \"https://www.worldometers.info/coronavirus/usa/mississippi/\"\n"
   ]
  },
  {
   "cell_type": "code",
   "execution_count": null,
   "metadata": {},
   "outputs": [],
   "source": [
    "testResult = scrapeGlobalCase(url_global)\n",
    "testRomania = scrapeGlobalCase(url_ro)\n",
    "testUS = scrapeGlobalCase(url_us)\n",
    "testCA = scrapeGlobalCase(url_california)\n",
    "testMS = scrapeGlobalCase(url_ms)"
   ]
  },
  {
   "cell_type": "code",
   "execution_count": null,
   "metadata": {},
   "outputs": [],
   "source": [
    "import csv\n",
    "with open('global_cases.csv', 'w', newline='') as f:\n",
    "    writer = csv.writer(f)\n",
    "    for key, value in testResult.items():\n",
    "        writer.writerow([key, value])"
   ]
  },
  {
   "cell_type": "code",
   "execution_count": null,
   "metadata": {},
   "outputs": [],
   "source": [
    "from csv import DictWriter\n",
    "def append_dict_as_row(file_name, dict_of_elem, field_names):\n",
    "    # Open file in append mode\n",
    "    with open(file_name, 'a+', newline='') as write_obj:\n",
    "        # Create a writer object from csv module\n",
    "        dict_writer = DictWriter(write_obj, fieldnames=field_names)\n",
    "        # Add dictionary as wor in the csv\n",
    "        dict_writer.writerow(dict_of_elem)"
   ]
  },
  {
   "cell_type": "code",
   "execution_count": null,
   "metadata": {},
   "outputs": [],
   "source": [
    "list_global = []\n",
    "cols = ['date','ConfirmedCases','ActiveCases','RecoveredCases','Deaths']\n",
    "with open('global_cases_all.csv', newline='') as csvfile:\n",
    "    reader = csv.DictReader(csvfile)\n",
    "    for row in reader:\n",
    "        list_global.append([row['date'], row[' ConfirmedCases'], row[' ActiveCases'], row[' RecoveredCases'], row[' Deaths']])\n",
    "df_global = pd.DataFrame(list_global, columns = cols)\n",
    "df_global['ConfirmedCases'] = df_global['ConfirmedCases'].astype(str).astype(int)\n",
    "df_global['ActiveCases'] = df_global['ActiveCases'].astype(str).astype(int)\n",
    "df_global['RecoveredCases'] = df_global['RecoveredCases'].astype(str).astype(int)\n",
    "df_global['Deaths'] = df_global['Deaths'].astype(str).astype(int)\n",
    "df_global['DailyCases'] = df_global['ConfirmedCases'].diff(1)\n",
    "df_global['DailyDeaths'] = df_global['Deaths'].diff(1)\n",
    "\n",
    "#print(df_global.head())\n",
    "#print(df_global.dtypes)"
   ]
  },
  {
   "cell_type": "code",
   "execution_count": null,
   "metadata": {},
   "outputs": [],
   "source": [
    "sns.set()\n",
    "plt.figure(figsize = (20,6))\n",
    "pl = sns.barplot(x = df_global.index, y = df_global['DailyCases'])\n",
    "_=plt.xticks(np.arange(df_global.shape[0])[::1], df_global.index[0:0:1], rotation=35)\n",
    "_=pl.set_title('New confirmed cases')"
   ]
  },
  {
   "cell_type": "code",
   "execution_count": null,
   "metadata": {},
   "outputs": [],
   "source": [
    "sns.set()\n",
    "plt.figure(figsize = (20,6))\n",
    "pl = sns.barplot(x = df_global.index, y = df_global['DailyDeaths'])\n",
    "_=plt.xticks(np.arange(df_global.shape[0])[::1], df_global.index[0:0:1], rotation=35)\n",
    "_=pl.set_title('New confirmed deaths')"
   ]
  },
  {
   "cell_type": "markdown",
   "metadata": {},
   "source": [
    "Adding graphs showing cases/100000 people for each location for better comparison:\n",
    "# Linear total cases per 1 000 000 people for LA County, Romania, and Mississippi "
   ]
  },
  {
   "cell_type": "code",
   "execution_count": null,
   "metadata": {},
   "outputs": [],
   "source": [
    "df[['LA_Conf_prop', 'Ro_Conf_prop', 'MS_Conf_prop']].plot(x_compat=True, figsize=(16,6))\n",
    "plt.show()"
   ]
  },
  {
   "cell_type": "markdown",
   "metadata": {},
   "source": [
    "# Log scale total cases per 1 000 000 people for LA County, Romania, and Mississippi "
   ]
  },
  {
   "cell_type": "code",
   "execution_count": null,
   "metadata": {},
   "outputs": [],
   "source": [
    "df[['LA_Conf_prop', 'Ro_Conf_prop', 'MS_Conf_prop']].plot(x_compat=True, figsize=(16,6))\n",
    "plt.yscale('log')\n",
    "plt.show()"
   ]
  },
  {
   "cell_type": "markdown",
   "metadata": {},
   "source": [
    "# Linear deaths recorded per 1 000 000 people for LA County, Romania, and Mississippi "
   ]
  },
  {
   "cell_type": "code",
   "execution_count": null,
   "metadata": {},
   "outputs": [],
   "source": [
    "df[['LA_Deaths_prop', 'Ro_Deaths_prop', 'MS_Deaths_prop']].plot(x_compat=True, figsize=(16,6))\n",
    "plt.show()"
   ]
  },
  {
   "cell_type": "markdown",
   "metadata": {},
   "source": [
    "# Log deaths recorded per 1 000 000 people for LA County, Romania, and Mississippi "
   ]
  },
  {
   "cell_type": "code",
   "execution_count": null,
   "metadata": {},
   "outputs": [],
   "source": [
    "df[['LA_Deaths_prop', 'Ro_Deaths_prop', 'MS_Deaths_prop']].plot(x_compat=True, figsize=(16,6))\n",
    "plt.yscale('log')\n",
    "plt.show()"
   ]
  },
  {
   "cell_type": "markdown",
   "metadata": {},
   "source": [
    "# Linear daily cases recorded per 1 000 000 people for LA County, Romania, and Mississippi "
   ]
  },
  {
   "cell_type": "code",
   "execution_count": null,
   "metadata": {},
   "outputs": [],
   "source": [
    "df[['LA_daily_prop', 'Ro_daily_prop', 'MS_daily_prop']].plot(x_compat=True, figsize=(16,6))\n",
    "plt.legend(loc=2)\n",
    "plt.show()"
   ]
  },
  {
   "cell_type": "markdown",
   "metadata": {},
   "source": [
    "# Log daily cases recorded per 1 000 000 people for LA County, Romania, and Mississippi "
   ]
  },
  {
   "cell_type": "code",
   "execution_count": null,
   "metadata": {},
   "outputs": [],
   "source": [
    "df[['LA_daily_prop', 'Ro_daily_prop', 'MS_daily_prop']].plot(x_compat=True, figsize=(16,6))\n",
    "plt.yscale('log')\n",
    "plt.show()"
   ]
  },
  {
   "cell_type": "markdown",
   "metadata": {},
   "source": [
    "# LA County daily cases"
   ]
  },
  {
   "cell_type": "code",
   "execution_count": null,
   "metadata": {},
   "outputs": [],
   "source": [
    "sns.set()\n",
    "plt.figure(figsize = (20,6))\n",
    "pl = sns.barplot(x = df.index, y = df['daily cases'])\n",
    "_=plt.xticks(np.arange(df.shape[0])[::1], df.index[0:0:1], rotation=35)\n",
    "_=pl.set_title('New confirmed cases')"
   ]
  },
  {
   "cell_type": "markdown",
   "metadata": {},
   "source": [
    "Plot 7 day average for the LA County new cases:"
   ]
  },
  {
   "cell_type": "code",
   "execution_count": null,
   "metadata": {},
   "outputs": [],
   "source": [
    "df['pandas_SMA_7'] = df['daily cases'].rolling(window=7).mean()\n",
    "sns.set()\n",
    "plt.figure(figsize = (20,6))\n",
    "pl = sns.barplot(x = df.index, y = df['pandas_SMA_7'])\n",
    "_=plt.xticks(np.arange(df.shape[0])[::1], df.index[0:0:1], rotation=35)\n",
    "_=pl.set_title('New confirmed cases on a 7 day rolling average smoothing')"
   ]
  },
  {
   "cell_type": "markdown",
   "metadata": {},
   "source": [
    "# LA County daily deaths raw and 7-day average"
   ]
  },
  {
   "cell_type": "code",
   "execution_count": null,
   "metadata": {
    "scrolled": true
   },
   "outputs": [],
   "source": [
    "df['DailyDeaths'] = df['deaths'].diff(1)\n",
    "sns.set()\n",
    "plt.figure(figsize = (20,6))\n",
    "pl = sns.barplot(x = df.index, y = df['DailyDeaths'])\n",
    "_=plt.xticks(np.arange(df.shape[0])[::1], df.index[0:0:1], rotation=35)\n",
    "_=pl.set_title('New deaths LA County')"
   ]
  },
  {
   "cell_type": "code",
   "execution_count": null,
   "metadata": {},
   "outputs": [],
   "source": [
    "df['deaths_SMA_7'] = df['DailyDeaths'].rolling(window=7).mean()\n",
    "sns.set()\n",
    "plt.figure(figsize = (20,6))\n",
    "pl = sns.barplot(x = df.index, y = df['deaths_SMA_7'])\n",
    "_=plt.xticks(np.arange(df.shape[0])[::1], df.index[0:0:1], rotation=35)\n",
    "_=pl.set_title('New deaths in LA County on a 7 day rolling average smoothing')"
   ]
  },
  {
   "cell_type": "markdown",
   "metadata": {},
   "source": [
    "#                 Linear scale - all LA County data"
   ]
  },
  {
   "cell_type": "code",
   "execution_count": null,
   "metadata": {},
   "outputs": [],
   "source": [
    "df_LA = df[['confirmed cases', 'deaths', 'hospitalized', 'daily cases']]\n",
    "df_LA.plot(figsize=(18,10))\n",
    "plt.show()"
   ]
  },
  {
   "cell_type": "markdown",
   "metadata": {},
   "source": [
    "plot on a log scale to see the rate more accurately:\n",
    "# Log scale - all LA County data"
   ]
  },
  {
   "cell_type": "code",
   "execution_count": null,
   "metadata": {},
   "outputs": [],
   "source": [
    "df_LA = df[['confirmed cases', 'deaths', 'hospitalized', 'daily cases']]\n",
    "df_LA.plot(figsize=(18,10))\n",
    "plt.yscale('log')\n",
    "plt.show()"
   ]
  },
  {
   "cell_type": "markdown",
   "metadata": {},
   "source": [
    "A closer look at just the newly diagnosed cases every day (this is the more informative curve, which shows the number of people who have been sick and contagious for at least a week before they show up in this chart). The question is how many have these people infected before being diagnosed, and how much will this curve flatten in the next 2 weeks, when we're likely to start seeing the effects of the stay at home order. Cases in LA County in blue, in Romania in orange, and Mississippi in green)\n",
    "\n",
    "# Linear scale - comparison of cases per day for LA, RO and MS"
   ]
  },
  {
   "cell_type": "code",
   "execution_count": null,
   "metadata": {},
   "outputs": [],
   "source": [
    "df[['daily cases','RO-daily', 'MS-daily']].plot(x_compat=True, figsize=(16,6))\n",
    "plt.show()"
   ]
  },
  {
   "cell_type": "markdown",
   "metadata": {},
   "source": [
    "# Log scale - comparison of cases per day for LA, RO and MS"
   ]
  },
  {
   "cell_type": "code",
   "execution_count": null,
   "metadata": {},
   "outputs": [],
   "source": [
    "df[['daily cases','RO-daily', 'MS-daily']].plot(x_compat=True, figsize=(16,6))\n",
    "plt.yscale('log')\n",
    "plt.show()"
   ]
  },
  {
   "cell_type": "markdown",
   "metadata": {},
   "source": [
    "Nu am gasit date despre numarul de spitalizari in Romania - de aceea lipseste curba respectiva dupa data de 25 Martie.\n",
    "# Linear scale - all data for Romania cases "
   ]
  },
  {
   "cell_type": "code",
   "execution_count": null,
   "metadata": {},
   "outputs": [],
   "source": [
    "df_RO = df[['RO-confirmed', 'RO-deaths', 'RO-hospitalized', 'RO-daily']]\n",
    "df_RO.plot(figsize=(18,10))\n",
    "plt.show()\n",
    "print(df_RO.tail())"
   ]
  },
  {
   "cell_type": "markdown",
   "metadata": {},
   "source": [
    "# Log scale - all data for Romania cases "
   ]
  },
  {
   "cell_type": "code",
   "execution_count": null,
   "metadata": {},
   "outputs": [],
   "source": [
    "df_RO = df[['RO-confirmed', 'RO-deaths', 'RO-hospitalized', 'RO-daily']]\n",
    "df_RO.plot(figsize=(18,10))\n",
    "plt.yscale('log')\n",
    "plt.show()"
   ]
  },
  {
   "cell_type": "markdown",
   "metadata": {},
   "source": [
    "Comparison LA County(total population 10 105 000 people) to Romania (population 19 500 000) as of 2018.  Starting with total confirmed cases:\n",
    "Adding Mississippi - population of 3 980 000.\n",
    "\n",
    "# Linear scale - all data for Mississippi cases "
   ]
  },
  {
   "cell_type": "code",
   "execution_count": null,
   "metadata": {},
   "outputs": [],
   "source": [
    "df_MS = df[['MS-confirmed', 'MS-deaths', 'MS-hospitalized', 'MS-daily']]\n",
    "df_MS.plot(figsize=(18,10))\n",
    "plt.show()"
   ]
  },
  {
   "cell_type": "markdown",
   "metadata": {},
   "source": [
    "# Log scale - all data for Mississippi cases "
   ]
  },
  {
   "cell_type": "code",
   "execution_count": null,
   "metadata": {},
   "outputs": [],
   "source": [
    "df_MS = df[['MS-confirmed', 'MS-deaths', 'MS-hospitalized', 'MS-daily']]\n",
    "df_MS.plot(figsize=(18,10))\n",
    "plt.yscale('log')\n",
    "plt.show()"
   ]
  },
  {
   "cell_type": "markdown",
   "metadata": {},
   "source": [
    "# Linear scale - comparison data for all confirmed cases to date for LA, MS and RO"
   ]
  },
  {
   "cell_type": "code",
   "execution_count": null,
   "metadata": {},
   "outputs": [],
   "source": [
    "df[['confirmed cases','RO-confirmed', 'MS-confirmed']].plot(x_compat=True, figsize=(16,6))\n",
    "\n",
    "plt.show()"
   ]
  },
  {
   "cell_type": "markdown",
   "metadata": {},
   "source": [
    "# Log scale - comparison data for all confirmed cases to date for LA, MS and RO"
   ]
  },
  {
   "cell_type": "code",
   "execution_count": null,
   "metadata": {},
   "outputs": [],
   "source": [
    "df[['confirmed cases','RO-confirmed', 'MS-confirmed']].plot(x_compat=True, figsize=(16,6))\n",
    "plt.yscale('log')\n",
    "plt.show()"
   ]
  },
  {
   "cell_type": "markdown",
   "metadata": {},
   "source": [
    "Comparison of number of deaths (cummulative) between LA County (blue curve) and Romania (orange curve). Adding Mississippi\n",
    "# Linear scale - comparison data for all deaths to date for LA, MS and RO"
   ]
  },
  {
   "cell_type": "code",
   "execution_count": null,
   "metadata": {},
   "outputs": [],
   "source": [
    "df[['deaths','RO-deaths', 'MS-deaths']].plot(x_compat=True, figsize=(16,6))\n",
    "\n",
    "plt.show()"
   ]
  },
  {
   "cell_type": "markdown",
   "metadata": {},
   "source": [
    "# Log scale - comparison data for all deaths to date for LA, MS and RO"
   ]
  },
  {
   "cell_type": "code",
   "execution_count": null,
   "metadata": {},
   "outputs": [],
   "source": [
    "df[['deaths','RO-deaths', 'MS-deaths']].plot(x_compat=True, figsize=(16,6))\n",
    "plt.yscale('log')\n",
    "plt.show()"
   ]
  },
  {
   "cell_type": "code",
   "execution_count": null,
   "metadata": {},
   "outputs": [],
   "source": [
    "import requests,datetime\n",
    "from bs4 import BeautifulSoup\n",
    "from datetime import timedelta\n",
    "  \n",
    "URL = \"http://publichealth.lacounty.gov/media/Coronavirus/\"\n",
    "\n",
    "r = requests.get(URL)  \n",
    "soup = BeautifulSoup(r.content, 'html5lib') \n",
    "the_text = soup.get_text()\n",
    "st_date = the_text\n",
    "date_md = [int(s) for s in st_date.split() if s.isdigit()]\n",
    "#print(soup.prettify())  \n",
    "new_data = []\n",
    "table = soup.findAll('div', attrs = {'class':'counter-block counter-text'})\n",
    "\n"
   ]
  },
  {
   "cell_type": "code",
   "execution_count": null,
   "metadata": {},
   "outputs": [],
   "source": [
    "field_names = ['date','ConfirmedCases','ActiveCases','RecoveredCases','Deaths']\n",
    "field_LA = ['confirmed cases', 'deaths', 'hospitalized', 'daily cases']\n",
    "field_RO = ['RO-confirmed', 'RO-deaths', 'RO-hospitalized', 'RO-daily']\n",
    "field_MS = ['MS-confirmed', 'MS-deaths', 'MS-hospitalized', 'MS-daily']\n",
    "# Append a dict as a row in csv file\n",
    "append_dict_as_row('global_cases_all.csv', testResult, field_names)\n",
    "append_dict_as_row('global_cases_us.csv', testUS, field_names)\n",
    "append_dict_as_row('global_cases_ro.csv', testRomania, field_names)\n",
    "append_dict_as_row('global_cases_ca.csv', testCA, field_names)\n",
    "append_dict_as_row('global_cases_ms.csv', testMS, field_names)\n"
   ]
  },
  {
   "cell_type": "code",
   "execution_count": null,
   "metadata": {},
   "outputs": [],
   "source": [
    "list_ro = []\n",
    "cols = ['date','ConfirmedCases','ActiveCases','RecoveredCases','Deaths']\n",
    "with open('global_cases_ro.csv', newline='') as csvfile:\n",
    "    reader = csv.DictReader(csvfile)\n",
    "    for row in reader:\n",
    "        list_ro.append([row['date'], row[' ConfirmedCases'], row[' ActiveCases'], row[' RecoveredCases'], row[' Deaths']])\n",
    "df_ro = pd.DataFrame(list_ro, columns = cols)\n",
    "df_ro['ConfirmedCases'] = df_ro['ConfirmedCases'].astype(str).astype(int)\n",
    "df_ro['ActiveCases'] = df_ro['ActiveCases'].astype(str).astype(int)\n",
    "df_ro['RecoveredCases'] = df_ro['RecoveredCases'].astype(str).astype(int)\n",
    "df_ro['Deaths'] = df_ro['Deaths'].astype(str).astype(int)\n",
    "df_ro['DailyCases'] = df_ro['ConfirmedCases'].diff(1)\n",
    "df_ro['DailyDeaths'] = df_ro['Deaths'].diff(1)\n",
    "\n",
    "df_ro.tail()"
   ]
  },
  {
   "cell_type": "code",
   "execution_count": null,
   "metadata": {},
   "outputs": [],
   "source": [
    "sns.set()\n",
    "plt.figure(figsize = (20,6))\n",
    "pl = sns.barplot(x = df_ro.index, y = df_ro['DailyCases'])\n",
    "_=plt.xticks(np.arange(df_ro.shape[0])[::1], df_ro.index[0:0:1], rotation=35)\n",
    "_=pl.set_title('New confirmed cases Romania')"
   ]
  },
  {
   "cell_type": "code",
   "execution_count": null,
   "metadata": {},
   "outputs": [],
   "source": [
    "sns.set()\n",
    "plt.figure(figsize = (20,6))\n",
    "pl = sns.barplot(x = df_ro.index, y = df_ro['DailyDeaths'])\n",
    "_=plt.xticks(np.arange(df_ro.shape[0])[::1], df_ro.index[0:0:1], rotation=35)\n",
    "_=pl.set_title('New confirmed deaths Romania')"
   ]
  },
  {
   "cell_type": "code",
   "execution_count": null,
   "metadata": {},
   "outputs": [],
   "source": [
    "list_ca = []\n",
    "cols = ['date','ConfirmedCases','ActiveCases','RecoveredCases','Deaths']\n",
    "with open('global_cases_ca.csv', newline='') as csvfile:\n",
    "    reader = csv.DictReader(csvfile)\n",
    "    for row in reader:\n",
    "        list_ca.append([row['date'], row[' ConfirmedCases'], row[' ActiveCases'], row[' RecoveredCases'], row[' Deaths']])\n",
    "df_ca = pd.DataFrame(list_ca, columns = cols)\n",
    "df_ca['ConfirmedCases'] = df_ca['ConfirmedCases'].astype(str).astype(int)\n",
    "df_ca['ActiveCases'] = df_ca['ActiveCases'].astype(str).astype(int)\n",
    "df_ca['RecoveredCases'] = df_ca['RecoveredCases'].astype(str).astype(int)\n",
    "df_ca['Deaths'] = df_ca['Deaths'].astype(str).astype(int)\n",
    "df_ca['DailyCases'] = df_ca['ConfirmedCases'].diff(1)\n",
    "df_ca['DailyDeaths'] = df_ca['Deaths'].diff(1)\n",
    "\n",
    "df_ca.tail()\n"
   ]
  },
  {
   "cell_type": "code",
   "execution_count": null,
   "metadata": {},
   "outputs": [],
   "source": [
    "sns.set()\n",
    "plt.figure(figsize = (20,6))\n",
    "pl = sns.barplot(x = df_ca.index, y = df_ca['DailyCases'])\n",
    "_=plt.xticks(np.arange(df_ca.shape[0])[::1], df_ca.index[0:0:1], rotation=35)\n",
    "_=pl.set_title('New confirmed cases California')"
   ]
  },
  {
   "cell_type": "code",
   "execution_count": null,
   "metadata": {},
   "outputs": [],
   "source": [
    "sns.set()\n",
    "plt.figure(figsize = (20,6))\n",
    "pl = sns.barplot(x = df_ca.index, y = df_ca['DailyDeaths'])\n",
    "_=plt.xticks(np.arange(df_ca.shape[0])[::1], df_ca.index[0:0:1], rotation=35)\n",
    "_=pl.set_title('New confirmed deaths California')"
   ]
  },
  {
   "cell_type": "code",
   "execution_count": null,
   "metadata": {},
   "outputs": [],
   "source": [
    "\n",
    "from datetime import timedelta\n",
    "  \n",
    "URL = \"http://publichealth.lacounty.gov/media/Coronavirus/\"\n",
    "\n",
    "r = requests.get(URL)  \n",
    "soup = BeautifulSoup(r.content, 'html5lib') \n",
    "the_text = soup.get_text()\n",
    "st_date = the_text\n",
    "date_md = [int(s) for s in st_date.split() if s.isdigit()]\n",
    "#print(soup.prettify())  \n",
    "new_data = []\n",
    "table = soup.findAll('div', attrs = {'class':'counter-block counter-text'})\n",
    "#dt_txt = soup.find('div', attrs = {'class': 'col-md-12 center'})\n",
    "#all_text = dt_txt.get_text()\n",
    "#new_dt = [int(s) for s in all_text.split() if s.isdigit()]\n",
    "#print(new_dt)\n",
    "#if len(table) > 2:\n",
    "#    print('Need to take a look, format of page has changed')\n",
    "#for row in table: \n",
    "#    print(row.text)\n",
    "#    new_data.append(int(row.text))\n",
    "     \n",
    "#print(new_data)\n"
   ]
  },
  {
   "cell_type": "markdown",
   "metadata": {},
   "source": [
    "TO DO: \n",
    "    1. improve and fix scrapers for data\n",
    "    2. plot 7 day averages\n",
    "    3. build prediction models"
   ]
  },
  {
   "cell_type": "code",
   "execution_count": null,
   "metadata": {},
   "outputs": [],
   "source": []
  },
  {
   "cell_type": "code",
   "execution_count": null,
   "metadata": {},
   "outputs": [],
   "source": []
  }
 ],
 "metadata": {
  "kernelspec": {
   "display_name": "Python 3",
   "language": "python",
   "name": "python3"
  },
  "language_info": {
   "codemirror_mode": {
    "name": "ipython",
    "version": 3
   },
   "file_extension": ".py",
   "mimetype": "text/x-python",
   "name": "python",
   "nbconvert_exporter": "python",
   "pygments_lexer": "ipython3",
   "version": "3.7.2"
  }
 },
 "nbformat": 4,
 "nbformat_minor": 2
}
