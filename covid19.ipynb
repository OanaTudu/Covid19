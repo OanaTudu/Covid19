{
 "cells": [
  {
   "cell_type": "markdown",
   "metadata": {},
   "source": [
    "A very quick look at the evolving coronavirus cases in LA County, starting with Jan 21st, when the first case got diagnosed in the county. Data comes from the LA County Public Health website:\n",
    "http://publichealth.lacounty.gov/media/Coronavirus/\n",
    "I am updating the data as it comes in. \n",
    ":rocket:"
   ]
  },
  {
   "cell_type": "code",
   "execution_count": 1,
   "metadata": {},
   "outputs": [],
   "source": [
    "import pandas as pd\n",
    "from matplotlib import pyplot as plt\n",
    "import numpy as np\n",
    "import seaborn as sns\n",
    "import requests,datetime\n",
    "from bs4 import BeautifulSoup\n",
    "from datetime import timedelta\n",
    "\n",
    "\n",
    "df = pd.read_csv('LACountyCovid.csv', header=0, index_col=0, squeeze=True)\n",
    "df.index = pd.to_datetime(df.index)\n",
    "df.index.name = 'date'\n"
   ]
  },
  {
   "cell_type": "code",
   "execution_count": 2,
   "metadata": {},
   "outputs": [
    {
     "name": "stdout",
     "output_type": "stream",
     "text": [
      "            confirmed cases  deaths  hospitalized  daily cases month  \\\n",
      "date                                                                   \n",
      "2020-11-04         315564.0  7140.0         825.0       2065.0   Nov   \n",
      "2020-11-05         317656.0  7157.0         821.0       2108.0   Nov   \n",
      "2020-11-06         319977.0  7170.0         840.0       2418.0   Nov   \n",
      "2020-11-07         322207.0  7172.0         851.0       2238.0   Nov   \n",
      "2020-11-08              NaN     NaN           NaN          NaN   Nov   \n",
      "\n",
      "            RO-confirmed  RO-deaths  RO-hospitalized  RO-daily  MS-confirmed  \\\n",
      "date                                                                           \n",
      "2020-11-04        267088       7419              NaN      8651      124854.0   \n",
      "2020-11-05        276802       7540              NaN      9714      125885.0   \n",
      "2020-11-06        287062       7663              NaN     10260      126689.0   \n",
      "2020-11-07        296999       7793              NaN      9937      127205.0   \n",
      "2020-11-08        303751       7879              NaN      6752           NaN   \n",
      "\n",
      "            MS-deaths  MS-hospitalized  MS-daily  \n",
      "date                                              \n",
      "2020-11-04     3419.0              NaN     967.0  \n",
      "2020-11-05     3433.0              NaN    1031.0  \n",
      "2020-11-06     3443.0              NaN     804.0  \n",
      "2020-11-07     3443.0              NaN     516.0  \n",
      "2020-11-08        NaN              NaN       NaN  \n",
      "            confirmed cases  deaths  hospitalized  daily cases month  \\\n",
      "date                                                                   \n",
      "2020-11-04         315564.0  7140.0         825.0       2065.0   Nov   \n",
      "2020-11-05         317656.0  7157.0         821.0       2108.0   Nov   \n",
      "2020-11-06         319977.0  7170.0         840.0       2418.0   Nov   \n",
      "2020-11-07         322207.0  7172.0         851.0       2238.0   Nov   \n",
      "2020-11-08              NaN     NaN           NaN          NaN   Nov   \n",
      "\n",
      "            RO-confirmed  RO-deaths  RO-hospitalized  RO-daily  MS-confirmed  \\\n",
      "date                                                                           \n",
      "2020-11-04        267088       7419              NaN      8651      124854.0   \n",
      "2020-11-05        276802       7540              NaN      9714      125885.0   \n",
      "2020-11-06        287062       7663              NaN     10260      126689.0   \n",
      "2020-11-07        296999       7793              NaN      9937      127205.0   \n",
      "2020-11-08        303751       7879              NaN      6752           NaN   \n",
      "\n",
      "                ...        MS-daily  Ro_Conf_prop  Ro_Deaths_prop  \\\n",
      "date            ...                                                 \n",
      "2020-11-04      ...           967.0  13675.780850      379.877112   \n",
      "2020-11-05      ...          1031.0  14173.169483      386.072709   \n",
      "2020-11-06      ...           804.0  14698.515105      392.370712   \n",
      "2020-11-07      ...           516.0  15207.322069      399.027138   \n",
      "2020-11-08      ...             NaN  15553.046595      403.430620   \n",
      "\n",
      "            Ro_daily_prop  LA_Conf_prop  LA_Deaths_prop  LA_daily_prop  \\\n",
      "date                                                                     \n",
      "2020-11-04     442.959549  31186.037734      705.620126     204.076409   \n",
      "2020-11-05     497.388633  31392.782455      707.300174     208.325942   \n",
      "2020-11-06     525.345622  31622.158409      708.584916     238.962110   \n",
      "2020-11-07     508.806964  31842.541165      708.782569     221.173367   \n",
      "2020-11-08     345.724526           NaN             NaN            NaN   \n",
      "\n",
      "            MS_Conf_prop  MS_Deaths_prop  MS_daily_prop  \n",
      "date                                                     \n",
      "2020-11-04  41799.129561     1144.626716     323.736190  \n",
      "2020-11-05  42144.291932     1149.313693     345.162370  \n",
      "2020-11-06  42413.458319     1152.661533     269.166388  \n",
      "2020-11-07  42586.206897     1152.661533     172.748577  \n",
      "2020-11-08           NaN             NaN            NaN  \n",
      "\n",
      "[5 rows x 22 columns]\n"
     ]
    }
   ],
   "source": [
    "print(df.tail())\n",
    "\n",
    "pop_Ro = 19530000\n",
    "pop_LA = 10118759\n",
    "pop_MS = 2987000\n",
    "df['Ro_Conf_prop'] = df.apply(lambda row: row['RO-confirmed'] * 1000000 / pop_Ro, axis = 1) \n",
    "df['Ro_Deaths_prop'] = df.apply(lambda row: row['RO-deaths'] * 1000000 / pop_Ro, axis = 1) \n",
    "df['Ro_daily_prop'] = df.apply(lambda row: row['RO-daily'] * 1000000 / pop_Ro, axis = 1) \n",
    "\n",
    "df['LA_Conf_prop'] = df.apply(lambda row: row['confirmed cases'] * 1000000 / pop_LA, axis = 1) \n",
    "df['LA_Deaths_prop'] = df.apply(lambda row: row['deaths'] * 1000000 / pop_LA, axis = 1) \n",
    "df['LA_daily_prop'] = df.apply(lambda row: row['daily cases'] * 1000000 / pop_LA, axis = 1) \n",
    "\n",
    "df['MS_Conf_prop'] = df.apply(lambda row: row['MS-confirmed'] * 1000000 / pop_MS, axis = 1) \n",
    "df['MS_Deaths_prop'] = df.apply(lambda row: row['MS-deaths'] * 1000000 / pop_MS, axis = 1) \n",
    "df['MS_daily_prop'] = df.apply(lambda row: row['MS-daily'] * 1000000 / pop_MS, axis = 1) \n",
    "print(df.tail())"
   ]
  },
  {
   "cell_type": "code",
   "execution_count": 3,
   "metadata": {},
   "outputs": [],
   "source": [
    "df['DailyDeaths'] = df['deaths'].diff(1)\n",
    "df['DailyDeathsRo'] = df['RO-deaths'].diff(1)\n",
    "df['DailyDeathsMs'] = df['MS-deaths'].diff(1)"
   ]
  },
  {
   "cell_type": "code",
   "execution_count": 4,
   "metadata": {},
   "outputs": [],
   "source": [
    "class HTMLTableParser:\n",
    "       \n",
    "        def parse_url(self, url):\n",
    "            response = requests.get(url)\n",
    "            soup = BeautifulSoup(response.text, 'lxml')\n",
    "            return [(table['id'],self.parse_html_table(table))\\\n",
    "                    for table in soup.find_all('table')]  \n",
    "    \n",
    "        def parse_html_table(self, table):\n",
    "            n_columns = 0\n",
    "            n_rows=0\n",
    "            column_names = []\n",
    "    \n",
    "            # Find number of rows and columns\n",
    "            # we also find the column titles if we can\n",
    "            for row in table.find_all('tr'):\n",
    "                \n",
    "                # Determine the number of rows in the table\n",
    "                td_tags = row.find_all('td')\n",
    "                if len(td_tags) > 0:\n",
    "                    n_rows+=1\n",
    "                    if n_columns == 0:\n",
    "                        # Set the number of columns for our table\n",
    "                        n_columns = len(td_tags)\n",
    "                        \n",
    "                # Handle column names if we find them\n",
    "                th_tags = row.find_all('th') \n",
    "                if len(th_tags) > 0 and len(column_names) == 0:\n",
    "                    for th in th_tags:\n",
    "                        column_names.append(th.get_text())\n",
    "    \n",
    "            # Safeguard on Column Titles\n",
    "            if len(column_names) > 0 and len(column_names) != n_columns:\n",
    "                raise Exception(\"Column titles do not match the number of columns\")\n",
    "    \n",
    "            columns = column_names if len(column_names) > 0 else range(0,n_columns)\n",
    "            df = pd.DataFrame(columns = columns,\n",
    "                              index= range(0,n_rows))\n",
    "            row_marker = 0\n",
    "            for row in table.find_all('tr'):\n",
    "                column_marker = 0\n",
    "                columns = row.find_all('td')\n",
    "                for column in columns:\n",
    "                    df.iat[row_marker,column_marker] = column.get_text()\n",
    "                    column_marker += 1\n",
    "                if len(columns) > 0:\n",
    "                    row_marker += 1\n",
    "                    \n",
    "            # Convert to float if possible\n",
    "            for col in df:\n",
    "                try:\n",
    "                    df[col] = df[col].astype(float)\n",
    "                except ValueError:\n",
    "                    pass\n",
    "            \n",
    "            return df"
   ]
  },
  {
   "cell_type": "code",
   "execution_count": null,
   "metadata": {},
   "outputs": [],
   "source": [
    "def scrapeGlobalCase (url):\n",
    "    try:\n",
    "        #url = \"https://www.worldometers.info/coronavirus/\"\n",
    "        req = requests.get(url)\n",
    "        bsObj = BeautifulSoup(req.text, \"html.parser\")\n",
    "        data = bsObj.find_all(\"div\",class_ = \"maincounter-number\")\n",
    "        NumConfirmed = int(data[0].text.strip().replace(',', ''))\n",
    "        NumDeaths = int(data[1].text.strip().replace(',', ''))\n",
    "        NumRecovered = int(data[2].text.strip().replace(',', ''))\n",
    "        NumActive = NumConfirmed - NumDeaths - NumRecovered\n",
    "        TimeNow = datetime.datetime.now()\n",
    "        return {\n",
    "            'date': str(TimeNow),\n",
    "            'ConfirmedCases': NumConfirmed,\n",
    "            'ActiveCases': NumActive,\n",
    "            'RecoveredCases': NumRecovered,\n",
    "            'Deaths': NumDeaths\n",
    "        }\n",
    "    except Exception as e: print(e)\n",
    "\n",
    "\n"
   ]
  },
  {
   "cell_type": "code",
   "execution_count": null,
   "metadata": {},
   "outputs": [],
   "source": [
    "def scrapeLACounty (url):\n",
    "    try:\n",
    "        hp = HTMLTableParser()\n",
    "        \n",
    "        table = hp.parse_url(url)[0][1] # Grabbing the table from the tuple\n",
    "        la_row = table.iloc[1]\n",
    "        NumConfirmed = int(''.join(filter(str.isdigit, la_row['TotalCases'])))\n",
    "        NumDeaths = int(''.join(filter(str.isdigit, la_row['TotalDeaths'])))\n",
    "        NumRecovered = 0\n",
    "        NumActive = 0\n",
    "        TimeNow = datetime.datetime.now()\n",
    "        return {\n",
    "            'date': str(TimeNow),\n",
    "            'ConfirmedCases': NumConfirmed,\n",
    "            'ActiveCases': NumActive,\n",
    "            'RecoveredCases': NumRecovered,\n",
    "            'Deaths': NumDeaths\n",
    "        }\n",
    "    except Exception as e: print(e)\n"
   ]
  },
  {
   "cell_type": "code",
   "execution_count": null,
   "metadata": {},
   "outputs": [],
   "source": [
    "url_ro = \"https://www.worldometers.info/coronavirus/country/romania/\"\n",
    "url_global = \"https://www.worldometers.info/coronavirus/\"\n",
    "url_us = \"https://www.worldometers.info/coronavirus/country/us/\"\n",
    "url_california = \"https://www.worldometers.info/coronavirus/usa/california/\"\n",
    "url_ms = \"https://www.worldometers.info/coronavirus/usa/mississippi/\"\n",
    "url_la = \"https://www.worldometers.info/coronavirus/usa/california/\""
   ]
  },
  {
   "cell_type": "code",
   "execution_count": null,
   "metadata": {},
   "outputs": [],
   "source": [
    "testResult = scrapeGlobalCase(url_global)\n",
    "testRomania = scrapeGlobalCase(url_ro)\n",
    "testUS = scrapeGlobalCase(url_us)\n",
    "testCA = scrapeGlobalCase(url_california)\n",
    "testMS = scrapeGlobalCase(url_ms)\n",
    "testLA = scrapeLACounty(url_la)"
   ]
  },
  {
   "cell_type": "code",
   "execution_count": null,
   "metadata": {},
   "outputs": [],
   "source": [
    "import csv\n",
    "with open('global_cases.csv', 'w', newline='') as f:\n",
    "    writer = csv.writer(f)\n",
    "    for key, value in testResult.items():\n",
    "        writer.writerow([key, value])"
   ]
  },
  {
   "cell_type": "code",
   "execution_count": null,
   "metadata": {},
   "outputs": [],
   "source": [
    "from csv import DictWriter\n",
    "def append_dict_as_row(file_name, dict_of_elem, field_names):\n",
    "    # Open file in append mode\n",
    "    with open(file_name, 'a+', newline='') as write_obj:\n",
    "        # Create a writer object from csv module\n",
    "        dict_writer = DictWriter(write_obj, fieldnames=field_names)\n",
    "        # Add dictionary as wor in the csv\n",
    "        dict_writer.writerow(dict_of_elem)"
   ]
  },
  {
   "cell_type": "code",
   "execution_count": null,
   "metadata": {},
   "outputs": [],
   "source": [
    "list_global = []\n",
    "cols = ['date','ConfirmedCases','ActiveCases','RecoveredCases','Deaths']\n",
    "with open('global_cases_all.csv', newline='') as csvfile:\n",
    "    reader = csv.DictReader(csvfile)\n",
    "    for row in reader:\n",
    "        list_global.append([row['date'], row[' ConfirmedCases'], row[' ActiveCases'], row[' RecoveredCases'], row[' Deaths']])\n",
    "df_global = pd.DataFrame(list_global, columns = cols)\n",
    "df_global['ConfirmedCases'] = df_global['ConfirmedCases'].astype(str).astype(int)\n",
    "df_global['ActiveCases'] = df_global['ActiveCases'].astype(str).astype(int)\n",
    "df_global['RecoveredCases'] = df_global['RecoveredCases'].astype(str).astype(int)\n",
    "df_global['Deaths'] = df_global['Deaths'].astype(str).astype(int)\n",
    "df_global['DailyCases'] = df_global['ConfirmedCases'].diff(1)\n",
    "df_global['DailyDeaths'] = df_global['Deaths'].diff(1)\n",
    "\n",
    "#print(df_global.head())\n",
    "#print(df_global.dtypes)"
   ]
  },
  {
   "cell_type": "code",
   "execution_count": null,
   "metadata": {},
   "outputs": [],
   "source": [
    "list_us = []\n",
    "cols = ['date','ConfirmedCases','ActiveCases','RecoveredCases','Deaths']\n",
    "with open('global_cases_us.csv', newline='') as csvfile:\n",
    "    reader = csv.DictReader(csvfile)\n",
    "    for row in reader:\n",
    "        list_us.append([row['date'], row[' ConfirmedCases'], row[' ActiveCases'], row[' RecoveredCases'], row[' Deaths']])\n",
    "df_us = pd.DataFrame(list_us, columns = cols)\n",
    "df_us['ConfirmedCases'] = df_us['ConfirmedCases'].astype(str).astype(int)\n",
    "df_us['ActiveCases'] = df_us['ActiveCases'].astype(str).astype(int)\n",
    "df_us['RecoveredCases'] = df_us['RecoveredCases'].astype(str).astype(int)\n",
    "df_us['Deaths'] = df_us['Deaths'].astype(str).astype(int)\n",
    "df_us['DailyCases'] = df_us['ConfirmedCases'].diff(1)\n",
    "df_us['DailyDeaths'] = df_us['Deaths'].diff(1)"
   ]
  },
  {
   "cell_type": "markdown",
   "metadata": {},
   "source": [
    "# Global cases and global deaths"
   ]
  },
  {
   "cell_type": "code",
   "execution_count": null,
   "metadata": {},
   "outputs": [
    {
     "data": {
      "image/png": "[encoded data removed]",
      "text/plain": [
       "<Figure size 1440x432 with 1 Axes>"
      ]
     },
     "metadata": {},
     "output_type": "display_data"
    }
   ],
   "source": [
    "sns.set()\n",
    "plt.figure(figsize = (20,6))\n",
    "pl = sns.barplot(x = df_global.date, y = df_global['DailyCases'])\n",
    "for ind, label in enumerate(pl.get_xticklabels()):\n",
    "    if ind % 10 == 0:  # every 10th label is kept\n",
    "        label.set_visible(True)\n",
    "    else:\n",
    "        label.set_visible(False)\n",
    "_=plt.xticks( rotation=35)\n",
    "_=pl.set_title('New confirmed cases')"
   ]
  },
  {
   "cell_type": "code",
   "execution_count": null,
   "metadata": {},
   "outputs": [
    {
     "data": {
      "image/png": "[encoded data removed]",
      "text/plain": [
       "<Figure size 1440x432 with 1 Axes>"
      ]
     },
     "metadata": {},
     "output_type": "display_data"
    }
   ],
   "source": [
    "df_global['pandas_SMA_7'] = df_global['DailyCases'].rolling(window=7).mean()\n",
    "plt.figure(figsize = (20,6))\n",
    "pl = sns.barplot(x = df_global.date, y = df_global['pandas_SMA_7'])\n",
    "for ind, label in enumerate(pl.get_xticklabels()):\n",
    "    if ind % 10 == 0:  # every 10th label is kept\n",
    "        label.set_visible(True)\n",
    "    else:\n",
    "        label.set_visible(False)\n",
    "_=plt.xticks( rotation=35)\n",
    "_=pl.set_title('New confirmed cases 7 day average')"
   ]
  },
  {
   "cell_type": "code",
   "execution_count": null,
   "metadata": {},
   "outputs": [],
   "source": [
    "sns.set()\n",
    "plt.figure(figsize = (20,6))\n",
    "pl = sns.barplot(x = df_global.date, y = df_global['DailyDeaths'])\n",
    "for ind, label in enumerate(pl.get_xticklabels()):\n",
    "    if ind % 10 == 0:  # every 10th label is kept\n",
    "        label.set_visible(True)\n",
    "    else:\n",
    "        label.set_visible(False)\n",
    "_=plt.xticks( rotation=35)\n",
    "_=pl.set_title('New confirmed deaths')"
   ]
  },
  {
   "cell_type": "code",
   "execution_count": null,
   "metadata": {},
   "outputs": [],
   "source": [
    "df_global['pandasD_SMA_7'] = df_global['DailyDeaths'].rolling(window=7).mean()\n",
    "plt.figure(figsize = (20,6))\n",
    "pl = sns.barplot(x = df_global.date, y = df_global['pandasD_SMA_7'])\n",
    "for ind, label in enumerate(pl.get_xticklabels()):\n",
    "    if ind % 10 == 0:  # every 10th label is kept\n",
    "        label.set_visible(True)\n",
    "    else:\n",
    "        label.set_visible(False)\n",
    "_=plt.xticks( rotation=35)\n",
    "_=pl.set_title('New confirmed deaths 7 day average')"
   ]
  },
  {
   "cell_type": "markdown",
   "metadata": {},
   "source": [
    "# US cases and deaths"
   ]
  },
  {
   "cell_type": "code",
   "execution_count": null,
   "metadata": {},
   "outputs": [],
   "source": [
    "sns.set()\n",
    "plt.figure(figsize = (20,6))\n",
    "pl = sns.barplot(x = df_us.date, y = df_us['DailyCases'])\n",
    "for ind, label in enumerate(pl.get_xticklabels()):\n",
    "    if ind % 10 == 0:  # every 10th label is kept\n",
    "        label.set_visible(True)\n",
    "    else:\n",
    "        label.set_visible(False)\n",
    "_=plt.xticks( rotation=35)\n",
    "_=pl.set_title('New confirmed cases')"
   ]
  },
  {
   "cell_type": "code",
   "execution_count": null,
   "metadata": {},
   "outputs": [],
   "source": [
    "df_us['pandas_SMA_7'] = df_us['DailyCases'].rolling(window=7).mean()\n",
    "plt.figure(figsize = (20,6))\n",
    "pl = sns.barplot(x = df_us.date, y = df_us['pandas_SMA_7'])\n",
    "for ind, label in enumerate(pl.get_xticklabels()):\n",
    "    if ind % 10 == 0:  # every 10th label is kept\n",
    "        label.set_visible(True)\n",
    "    else:\n",
    "        label.set_visible(False)\n",
    "_=plt.xticks( rotation=35)\n",
    "_=pl.set_title('New confirmed cases 7 day average')"
   ]
  },
  {
   "cell_type": "code",
   "execution_count": null,
   "metadata": {},
   "outputs": [],
   "source": [
    "sns.set()\n",
    "plt.figure(figsize = (20,6))\n",
    "pl = sns.barplot(x = df_us.date, y = df_us['DailyDeaths'])\n",
    "for ind, label in enumerate(pl.get_xticklabels()):\n",
    "    if ind % 10 == 0:  # every 10th label is kept\n",
    "        label.set_visible(True)\n",
    "    else:\n",
    "        label.set_visible(False)\n",
    "_=plt.xticks( rotation=35)\n",
    "_=pl.set_title('New confirmed deaths')"
   ]
  },
  {
   "cell_type": "code",
   "execution_count": null,
   "metadata": {},
   "outputs": [],
   "source": [
    "df_us['pandasD_SMA_7'] = df_us['DailyDeaths'].rolling(window=7).mean()\n",
    "plt.figure(figsize = (20,6))\n",
    "pl = sns.barplot(x = df_us.date, y = df_us['pandasD_SMA_7'])\n",
    "for ind, label in enumerate(pl.get_xticklabels()):\n",
    "    if ind % 10 == 0:  # every 10th label is kept\n",
    "        label.set_visible(True)\n",
    "    else:\n",
    "        label.set_visible(False)\n",
    "_=plt.xticks( rotation=35)\n",
    "_=pl.set_title('New confirmed deaths 7 day average')"
   ]
  },
  {
   "cell_type": "markdown",
   "metadata": {},
   "source": [
    "Adding graphs showing cases/100000 people for each location for better comparison:\n",
    "# Linear total cases per 1 000 000 people for LA County, Romania, and Mississippi "
   ]
  },
  {
   "cell_type": "code",
   "execution_count": null,
   "metadata": {},
   "outputs": [],
   "source": [
    "df[['LA_Conf_prop', 'Ro_Conf_prop', 'MS_Conf_prop']].plot(x_compat=True, figsize=(16,6))\n",
    "plt.show()"
   ]
  },
  {
   "cell_type": "markdown",
   "metadata": {},
   "source": [
    "# Log scale total cases per 1 000 000 people for LA County, Romania, and Mississippi "
   ]
  },
  {
   "cell_type": "code",
   "execution_count": null,
   "metadata": {},
   "outputs": [],
   "source": [
    "df[['LA_Conf_prop', 'Ro_Conf_prop', 'MS_Conf_prop']].plot(x_compat=True, figsize=(16,6))\n",
    "plt.yscale('log')\n",
    "plt.show()"
   ]
  },
  {
   "cell_type": "markdown",
   "metadata": {},
   "source": [
    "# Linear deaths recorded per 1 000 000 people for LA County, Romania, and Mississippi "
   ]
  },
  {
   "cell_type": "code",
   "execution_count": null,
   "metadata": {},
   "outputs": [],
   "source": [
    "df[['LA_Deaths_prop', 'Ro_Deaths_prop', 'MS_Deaths_prop']].plot(x_compat=True, figsize=(16,6))\n",
    "plt.show()"
   ]
  },
  {
   "cell_type": "markdown",
   "metadata": {},
   "source": [
    "# Log deaths recorded per 1 000 000 people for LA County, Romania, and Mississippi "
   ]
  },
  {
   "cell_type": "code",
   "execution_count": null,
   "metadata": {},
   "outputs": [],
   "source": [
    "df[['LA_Deaths_prop', 'Ro_Deaths_prop', 'MS_Deaths_prop']].plot(x_compat=True, figsize=(16,6))\n",
    "plt.yscale('log')\n",
    "plt.show()"
   ]
  },
  {
   "cell_type": "markdown",
   "metadata": {},
   "source": [
    "# Linear daily cases recorded per 1 000 000 people for LA County, Romania, and Mississippi "
   ]
  },
  {
   "cell_type": "code",
   "execution_count": null,
   "metadata": {},
   "outputs": [],
   "source": [
    "df[['LA_daily_prop', 'Ro_daily_prop', 'MS_daily_prop']].plot(x_compat=True, figsize=(16,6))\n",
    "plt.legend(loc=2)\n",
    "plt.show()"
   ]
  },
  {
   "cell_type": "markdown",
   "metadata": {},
   "source": [
    "# Log daily cases recorded per 1 000 000 people for LA County, Romania, and Mississippi "
   ]
  },
  {
   "cell_type": "code",
   "execution_count": null,
   "metadata": {},
   "outputs": [],
   "source": [
    "df[['LA_daily_prop', 'Ro_daily_prop', 'MS_daily_prop']].plot(x_compat=True, figsize=(16,6))\n",
    "plt.yscale('log')\n",
    "plt.show()"
   ]
  },
  {
   "cell_type": "markdown",
   "metadata": {},
   "source": [
    "# LA County daily cases"
   ]
  },
  {
   "cell_type": "code",
   "execution_count": null,
   "metadata": {},
   "outputs": [],
   "source": [
    "sns.set()\n",
    "plt.figure(figsize = (20,6))\n",
    "pl = sns.barplot(x = df.index, y = df['daily cases'])\n",
    "for ind, label in enumerate(pl.get_xticklabels()):\n",
    "    if ind % 10 == 0:  # every 10th label is kept\n",
    "        label.set_visible(True)\n",
    "    else:\n",
    "        label.set_visible(False)\n",
    "_=plt.xticks( rotation=35)\n",
    "_=pl.set_title('New confirmed cases')"
   ]
  },
  {
   "cell_type": "markdown",
   "metadata": {},
   "source": [
    "Plot 7 day average for the LA County new cases:"
   ]
  },
  {
   "cell_type": "code",
   "execution_count": null,
   "metadata": {},
   "outputs": [],
   "source": [
    "df['pandas_SMA_7'] = df['daily cases'].rolling(window=7).mean()\n",
    "sns.set()\n",
    "plt.figure(figsize = (20,6))\n",
    "pl = sns.barplot(x = df.index, y = df['pandas_SMA_7'])\n",
    "for ind, label in enumerate(pl.get_xticklabels()):\n",
    "    if ind % 15 == 0:  # every 15th label is kept\n",
    "        label.set_visible(True)\n",
    "    else:\n",
    "        label.set_visible(False)\n",
    "_=plt.xticks( rotation=35)\n",
    "_=pl.set_title('New confirmed cases on a 7 day rolling average smoothing')"
   ]
  },
  {
   "cell_type": "markdown",
   "metadata": {},
   "source": [
    "# LA County daily deaths raw and 7-day average"
   ]
  },
  {
   "cell_type": "code",
   "execution_count": null,
   "metadata": {
    "scrolled": true
   },
   "outputs": [],
   "source": [
    "\n",
    "sns.set()\n",
    "plt.figure(figsize = (20,6))\n",
    "pl = sns.barplot(x = df.index, y = df['DailyDeaths'])\n",
    "for ind, label in enumerate(pl.get_xticklabels()):\n",
    "    if ind % 15 == 0:  # every 15th label is kept\n",
    "        label.set_visible(True)\n",
    "    else:\n",
    "        label.set_visible(False)\n",
    "_=plt.xticks( rotation=35)\n",
    "_=pl.set_title('New deaths LA County')"
   ]
  },
  {
   "cell_type": "code",
   "execution_count": null,
   "metadata": {},
   "outputs": [],
   "source": [
    "df['deaths_SMA_7'] = df['DailyDeaths'].rolling(window=7).mean()\n",
    "#sns.set()\n",
    "plt.figure(figsize = (20,6))\n",
    "pl = sns.barplot(x = df.index, y = df['deaths_SMA_7'])\n",
    "for ind, label in enumerate(pl.get_xticklabels()):\n",
    "    if ind % 15 == 0:  # every 15th label is kept\n",
    "        label.set_visible(True)\n",
    "    else:\n",
    "        label.set_visible(False)\n",
    "_=plt.xticks( rotation=35)\n",
    "_=pl.set_title('New deaths in LA County on a 7 day rolling average smoothing')"
   ]
  },
  {
   "cell_type": "markdown",
   "metadata": {},
   "source": [
    "#                 Linear scale - all LA County data"
   ]
  },
  {
   "cell_type": "code",
   "execution_count": null,
   "metadata": {},
   "outputs": [],
   "source": [
    "df_LA = df[['confirmed cases', 'deaths', 'hospitalized', 'daily cases']]\n",
    "df_LA.plot(figsize=(18,10))\n",
    "plt.show()"
   ]
  },
  {
   "cell_type": "markdown",
   "metadata": {},
   "source": [
    "plot on a log scale to see the rate more accurately:\n",
    "# Log scale - all LA County data"
   ]
  },
  {
   "cell_type": "code",
   "execution_count": null,
   "metadata": {},
   "outputs": [],
   "source": [
    "df_LA = df[['confirmed cases', 'deaths', 'hospitalized', 'daily cases']]\n",
    "df_LA.plot(figsize=(18,10))\n",
    "plt.yscale('log')\n",
    "plt.show()"
   ]
  },
  {
   "cell_type": "markdown",
   "metadata": {},
   "source": [
    "A closer look at just the newly diagnosed cases every day (this is the more informative curve, which shows the number of people who have been sick and contagious for at least a week before they show up in this chart). The question is how many have these people infected before being diagnosed, and how much will this curve flatten in the next 2 weeks, when we're likely to start seeing the effects of the stay at home order. Cases in LA County in blue, in Romania in orange, and Mississippi in green)\n",
    "\n",
    "# Linear scale - comparison of cases per day for LA, RO and MS"
   ]
  },
  {
   "cell_type": "code",
   "execution_count": null,
   "metadata": {},
   "outputs": [],
   "source": [
    "df[['daily cases','RO-daily', 'MS-daily']].plot(x_compat=True, figsize=(16,6))\n",
    "plt.show()"
   ]
  },
  {
   "cell_type": "markdown",
   "metadata": {},
   "source": [
    "# Log scale - comparison of cases per day for LA, RO and MS"
   ]
  },
  {
   "cell_type": "code",
   "execution_count": null,
   "metadata": {},
   "outputs": [],
   "source": [
    "df[['daily cases','RO-daily', 'MS-daily']].plot(x_compat=True, figsize=(16,6))\n",
    "plt.yscale('log')\n",
    "plt.show()"
   ]
  },
  {
   "cell_type": "markdown",
   "metadata": {},
   "source": [
    "Nu am gasit date despre numarul de spitalizari in Romania - de aceea lipseste curba respectiva dupa data de 25 Martie.\n",
    "# Linear scale - all data for Romania cases "
   ]
  },
  {
   "cell_type": "code",
   "execution_count": null,
   "metadata": {},
   "outputs": [],
   "source": [
    "df_RO = df[['RO-confirmed', 'RO-deaths', 'RO-hospitalized', 'RO-daily']]\n",
    "df_RO.plot(figsize=(18,10))\n",
    "plt.show()\n",
    "print(df_RO.tail())"
   ]
  },
  {
   "cell_type": "markdown",
   "metadata": {},
   "source": [
    "# Log scale - all data for Romania cases "
   ]
  },
  {
   "cell_type": "code",
   "execution_count": null,
   "metadata": {},
   "outputs": [],
   "source": [
    "df_RO = df[['RO-confirmed', 'RO-deaths', 'RO-hospitalized', 'RO-daily']]\n",
    "df_RO.plot(figsize=(18,10))\n",
    "plt.yscale('log')\n",
    "plt.show()"
   ]
  },
  {
   "cell_type": "markdown",
   "metadata": {},
   "source": [
    "Comparison LA County(total population 10 105 000 people) to Romania (population 19 500 000) as of 2018.  Starting with total confirmed cases:\n",
    "Adding Mississippi - population of 3 980 000.\n",
    "\n",
    "# Linear scale - all data for Mississippi cases "
   ]
  },
  {
   "cell_type": "code",
   "execution_count": null,
   "metadata": {},
   "outputs": [],
   "source": [
    "df_MS = df[['MS-confirmed', 'MS-deaths', 'MS-hospitalized', 'MS-daily']]\n",
    "df_MS.plot(figsize=(18,10))\n",
    "plt.show()"
   ]
  },
  {
   "cell_type": "markdown",
   "metadata": {},
   "source": [
    "# Log scale - all data for Mississippi cases "
   ]
  },
  {
   "cell_type": "code",
   "execution_count": null,
   "metadata": {},
   "outputs": [],
   "source": [
    "df_MS = df[['MS-confirmed', 'MS-deaths', 'MS-hospitalized', 'MS-daily']]\n",
    "df_MS.plot(figsize=(18,10))\n",
    "plt.yscale('log')\n",
    "plt.show()"
   ]
  },
  {
   "cell_type": "markdown",
   "metadata": {},
   "source": [
    "# Linear scale - comparison data for all confirmed cases to date for LA, MS and RO"
   ]
  },
  {
   "cell_type": "code",
   "execution_count": null,
   "metadata": {},
   "outputs": [],
   "source": [
    "df[['confirmed cases','RO-confirmed', 'MS-confirmed']].plot(x_compat=True, figsize=(16,6))\n",
    "\n",
    "plt.show()"
   ]
  },
  {
   "cell_type": "markdown",
   "metadata": {},
   "source": [
    "# Log scale - comparison data for all confirmed cases to date for LA, MS and RO"
   ]
  },
  {
   "cell_type": "code",
   "execution_count": null,
   "metadata": {},
   "outputs": [],
   "source": [
    "df[['confirmed cases','RO-confirmed', 'MS-confirmed']].plot(x_compat=True, figsize=(16,6))\n",
    "plt.yscale('log')\n",
    "plt.show()"
   ]
  },
  {
   "cell_type": "markdown",
   "metadata": {},
   "source": [
    "Comparison of number of deaths (cummulative) between LA County (blue curve) and Romania (orange curve). Adding Mississippi\n",
    "# Linear scale - comparison data for all deaths to date for LA, MS and RO"
   ]
  },
  {
   "cell_type": "code",
   "execution_count": null,
   "metadata": {},
   "outputs": [],
   "source": [
    "df[['deaths','RO-deaths', 'MS-deaths']].plot(x_compat=True, figsize=(16,6))\n",
    "\n",
    "plt.show()"
   ]
  },
  {
   "cell_type": "markdown",
   "metadata": {},
   "source": [
    "# Log scale - comparison data for all deaths to date for LA, MS and RO"
   ]
  },
  {
   "cell_type": "code",
   "execution_count": null,
   "metadata": {},
   "outputs": [],
   "source": [
    "df[['deaths','RO-deaths', 'MS-deaths']].plot(x_compat=True, figsize=(16,6))\n",
    "plt.yscale('log')\n",
    "plt.show()"
   ]
  },
  {
   "cell_type": "markdown",
   "metadata": {},
   "source": [
    "\n",
    "# Linear scale - comparison data for daily deaths for LA, MS and RO"
   ]
  },
  {
   "cell_type": "code",
   "execution_count": null,
   "metadata": {},
   "outputs": [],
   "source": [
    "df[['DailyDeaths','DailyDeathsRo', 'DailyDeathsMs']].plot(x_compat=True, figsize=(16,6))\n",
    "\n",
    "plt.show()"
   ]
  },
  {
   "cell_type": "code",
   "execution_count": null,
   "metadata": {},
   "outputs": [],
   "source": [
    "df[['DailyDeaths','DailyDeathsRo', 'DailyDeathsMs']].plot(x_compat=True, figsize=(16,6))\n",
    "plt.yscale('log')\n",
    "plt.show()"
   ]
  },
  {
   "cell_type": "code",
   "execution_count": null,
   "metadata": {},
   "outputs": [],
   "source": [
    "import requests,datetime\n",
    "from bs4 import BeautifulSoup\n",
    "from datetime import timedelta\n",
    "  \n",
    "URL = \"http://publichealth.lacounty.gov/media/Coronavirus/\"\n",
    "\n",
    "r = requests.get(URL)  \n",
    "soup = BeautifulSoup(r.content, 'html5lib') \n",
    "the_text = soup.get_text()\n",
    "st_date = the_text\n",
    "date_md = [int(s) for s in st_date.split() if s.isdigit()]\n",
    "#print(soup.prettify())  \n",
    "new_data = []\n",
    "table = soup.findAll('div', attrs = {'class':'counter-block counter-text'})\n",
    "\n"
   ]
  },
  {
   "cell_type": "code",
   "execution_count": null,
   "metadata": {},
   "outputs": [],
   "source": [
    "field_names = ['date','ConfirmedCases','ActiveCases','RecoveredCases','Deaths']\n",
    "field_LA = ['confirmed cases', 'deaths', 'hospitalized', 'daily cases']\n",
    "field_RO = ['RO-confirmed', 'RO-deaths', 'RO-hospitalized', 'RO-daily']\n",
    "field_MS = ['MS-confirmed', 'MS-deaths', 'MS-hospitalized', 'MS-daily']\n",
    "# Append a dict as a row in csv file\n",
    "append_dict_as_row('global_cases_all.csv', testResult, field_names)\n",
    "append_dict_as_row('global_cases_us.csv', testUS, field_names)\n",
    "append_dict_as_row('global_cases_ro.csv', testRomania, field_names)\n",
    "append_dict_as_row('global_cases_ca.csv', testCA, field_names)\n",
    "append_dict_as_row('global_cases_ms.csv', testMS, field_names)\n",
    "append_dict_as_row('global_cases_la.csv', testLA, field_names)"
   ]
  },
  {
   "cell_type": "code",
   "execution_count": null,
   "metadata": {},
   "outputs": [],
   "source": [
    "list_ro = []\n",
    "cols = ['date','ConfirmedCases','ActiveCases','RecoveredCases','Deaths']\n",
    "with open('global_cases_ro.csv', newline='') as csvfile:\n",
    "    reader = csv.DictReader(csvfile)\n",
    "    for row in reader:\n",
    "        list_ro.append([row['date'], row[' ConfirmedCases'], row[' ActiveCases'], row[' RecoveredCases'], row[' Deaths']])\n",
    "df_ro = pd.DataFrame(list_ro, columns = cols)\n",
    "df_ro['ConfirmedCases'] = df_ro['ConfirmedCases'].astype(str).astype(int)\n",
    "df_ro['ActiveCases'] = df_ro['ActiveCases'].astype(str).astype(int)\n",
    "df_ro['RecoveredCases'] = df_ro['RecoveredCases'].astype(str).astype(int)\n",
    "df_ro['Deaths'] = df_ro['Deaths'].astype(str).astype(int)\n",
    "df_ro['DailyCases'] = df_ro['ConfirmedCases'].diff(1)\n",
    "df_ro['DailyDeaths'] = df_ro['Deaths'].diff(1)\n",
    "\n",
    "df_ro.tail()"
   ]
  },
  {
   "cell_type": "markdown",
   "metadata": {},
   "source": [
    "# Romania new cases and daily deaths"
   ]
  },
  {
   "cell_type": "code",
   "execution_count": null,
   "metadata": {},
   "outputs": [],
   "source": [
    "sns.set()\n",
    "plt.figure(figsize = (20,6))\n",
    "pl = sns.barplot(x = df.index, y = df['RO-daily'])\n",
    "for ind, label in enumerate(pl.get_xticklabels()):\n",
    "    if ind % 10 == 0:  # every 10th label is kept\n",
    "        label.set_visible(True)\n",
    "    else:\n",
    "        label.set_visible(False)\n",
    "_=plt.xticks( rotation=35)\n",
    "_=pl.set_title('New confirmed cases Romania')"
   ]
  },
  {
   "cell_type": "code",
   "execution_count": null,
   "metadata": {},
   "outputs": [],
   "source": [
    "df['ro_SMA_7_daily'] = df['RO-daily'].rolling(window=7).mean()\n",
    "sns.set()\n",
    "plt.figure(figsize = (20,6))\n",
    "pl = sns.barplot(x = df.index, y = df['ro_SMA_7_daily'])\n",
    "for ind, label in enumerate(pl.get_xticklabels()):\n",
    "    if ind % 10 == 0:  # every 10th label is kept\n",
    "        label.set_visible(True)\n",
    "    else:\n",
    "        label.set_visible(False)\n",
    "_=plt.xticks( rotation=35)\n",
    "_=pl.set_title('New confirmed cases Romania 7 day smoothing')"
   ]
  },
  {
   "cell_type": "code",
   "execution_count": null,
   "metadata": {},
   "outputs": [],
   "source": [
    "sns.set()\n",
    "plt.figure(figsize = (20,6))\n",
    "pl = sns.barplot(x = df.index, y = df['DailyDeathsRo'])\n",
    "for ind, label in enumerate(pl.get_xticklabels()):\n",
    "    if ind % 10 == 0:  # every 10th label is kept\n",
    "        label.set_visible(True)\n",
    "    else:\n",
    "        label.set_visible(False)\n",
    "_=plt.xticks( rotation=35)\n",
    "_=pl.set_title('New confirmed deaths Romania')"
   ]
  },
  {
   "cell_type": "code",
   "execution_count": null,
   "metadata": {},
   "outputs": [],
   "source": [
    "df['ro_SMA_7_deaths'] = df['DailyDeathsRo'].rolling(window=7).mean()\n",
    "plt.figure(figsize = (20,6))\n",
    "pl = sns.barplot(x = df.index, y = df['ro_SMA_7_deaths'])\n",
    "for ind, label in enumerate(pl.get_xticklabels()):\n",
    "    if ind % 10 == 0:  # every 10th label is kept\n",
    "        label.set_visible(True)\n",
    "    else:\n",
    "        label.set_visible(False)\n",
    "_=plt.xticks( rotation=35)\n",
    "_=pl.set_title('New confirmed deaths 7 day smoothing Romania')"
   ]
  },
  {
   "cell_type": "code",
   "execution_count": null,
   "metadata": {},
   "outputs": [],
   "source": [
    "list_ca = []\n",
    "cols = ['date','ConfirmedCases','ActiveCases','RecoveredCases','Deaths']\n",
    "with open('global_cases_ca.csv', newline='') as csvfile:\n",
    "    reader = csv.DictReader(csvfile)\n",
    "    for row in reader:\n",
    "        list_ca.append([row['date'], row[' ConfirmedCases'], row[' ActiveCases'], row[' RecoveredCases'], row[' Deaths']])\n",
    "df_ca = pd.DataFrame(list_ca, columns = cols)\n",
    "df_ca['ConfirmedCases'] = df_ca['ConfirmedCases'].astype(str).astype(int)\n",
    "df_ca['ActiveCases'] = df_ca['ActiveCases'].astype(str).astype(int)\n",
    "df_ca['RecoveredCases'] = df_ca['RecoveredCases'].astype(str).astype(int)\n",
    "df_ca['Deaths'] = df_ca['Deaths'].astype(str).astype(int)\n",
    "df_ca['DailyCases'] = df_ca['ConfirmedCases'].diff(1)\n",
    "df_ca['DailyDeaths'] = df_ca['Deaths'].diff(1)\n",
    "\n",
    "df_ca.tail()\n"
   ]
  },
  {
   "cell_type": "markdown",
   "metadata": {},
   "source": [
    "# California daily cases and daily deaths"
   ]
  },
  {
   "cell_type": "code",
   "execution_count": null,
   "metadata": {},
   "outputs": [],
   "source": [
    "sns.set()\n",
    "plt.figure(figsize = (20,6))\n",
    "pl = sns.barplot(x = df_ca.date, y = df_ca['DailyCases'])\n",
    "for ind, label in enumerate(pl.get_xticklabels()):\n",
    "    if ind % 5 == 0:  # every 5th label is kept\n",
    "        label.set_visible(True)\n",
    "    else:\n",
    "        label.set_visible(False)\n",
    "_=plt.xticks( rotation=35)\n",
    "_=pl.set_title('New confirmed cases California')"
   ]
  },
  {
   "cell_type": "code",
   "execution_count": null,
   "metadata": {},
   "outputs": [],
   "source": [
    "sns.set()\n",
    "plt.figure(figsize = (20,6))\n",
    "pl = sns.barplot(x = df_ca.date, y = df_ca['DailyDeaths'])\n",
    "for ind, label in enumerate(pl.get_xticklabels()):\n",
    "    if ind % 7 == 0:  # every 7th label is kept\n",
    "        label.set_visible(True)\n",
    "    else:\n",
    "        label.set_visible(False)\n",
    "_=plt.xticks( rotation=35)\n",
    "_=pl.set_title('New confirmed deaths California')"
   ]
  },
  {
   "cell_type": "code",
   "execution_count": null,
   "metadata": {},
   "outputs": [],
   "source": [
    "list_ms = []\n",
    "cols = ['date','ConfirmedCases','ActiveCases','RecoveredCases','Deaths']\n",
    "with open('global_cases_ms.csv', newline='') as csvfile:\n",
    "    reader = csv.DictReader(csvfile)\n",
    "    for row in reader:\n",
    "        list_ms.append([row['date'], row[' ConfirmedCases'], row[' ActiveCases'], row[' RecoveredCases'], row[' Deaths']])\n",
    "df_ms = pd.DataFrame(list_ms, columns = cols)\n",
    "df_ms['ConfirmedCases'] = df_ms['ConfirmedCases'].astype(str).astype(int)\n",
    "df_ms['ActiveCases'] = df_ms['ActiveCases'].astype(str).astype(int)\n",
    "df_ms['RecoveredCases'] = df_ms['RecoveredCases'].astype(str).astype(int)\n",
    "df_ms['Deaths'] = df_ms['Deaths'].astype(str).astype(int)\n",
    "df_ms['DailyCases'] = df_ms['ConfirmedCases'].diff(1)\n",
    "df_ms['DailyDeaths'] = df_ms['Deaths'].diff(1)\n",
    "\n",
    "df_ms.tail()"
   ]
  },
  {
   "cell_type": "markdown",
   "metadata": {},
   "source": [
    "# Mississippi daily cases and daily deaths"
   ]
  },
  {
   "cell_type": "code",
   "execution_count": null,
   "metadata": {},
   "outputs": [],
   "source": [
    "#sns.set()\n",
    "plt.figure(figsize = (20,6))\n",
    "pl = sns.barplot(x = df.index, y = df['MS-daily'])\n",
    "for ind, label in enumerate(pl.get_xticklabels()):\n",
    "    if ind % 10 == 0:  # every 10th label is kept\n",
    "        label.set_visible(True)\n",
    "    else:\n",
    "        label.set_visible(False)\n",
    "_=plt.xticks( rotation=35)\n",
    "_=pl.set_title('New confirmed cases Mississippi')"
   ]
  },
  {
   "cell_type": "code",
   "execution_count": null,
   "metadata": {},
   "outputs": [],
   "source": [
    "df['ms_SMA_7_daily']  =df['MS-daily'].rolling(window=7).mean()\n",
    "#sns.set()\n",
    "plt.figure(figsize = (20,6))\n",
    "pl = sns.barplot(x = df.index, y = df['ms_SMA_7_daily'])\n",
    "for ind, label in enumerate(pl.get_xticklabels()):\n",
    "    if ind % 10 == 0:  # every 10th label is kept\n",
    "        label.set_visible(True)\n",
    "    else:\n",
    "        label.set_visible(False)\n",
    "_=plt.xticks( rotation=35)\n",
    "_=pl.set_title('New confirmed cases Mississippi 7 day average')"
   ]
  },
  {
   "cell_type": "code",
   "execution_count": null,
   "metadata": {},
   "outputs": [],
   "source": [
    "sns.set()\n",
    "plt.figure(figsize = (20,6))\n",
    "pl = sns.barplot(x = df.index, y = df['DailyDeathsMs'])\n",
    "for ind, label in enumerate(pl.get_xticklabels()):\n",
    "    if ind % 10 == 0:  # every 10th label is kept\n",
    "        label.set_visible(True)\n",
    "    else:\n",
    "        label.set_visible(False)\n",
    "_=plt.xticks( rotation=35)\n",
    "_=pl.set_title('New confirmed deaths Mississippi')"
   ]
  },
  {
   "cell_type": "code",
   "execution_count": null,
   "metadata": {},
   "outputs": [],
   "source": [
    "df['ms_SMA_7_deaths'] = df['DailyDeathsMs'].rolling(window=7).mean()\n",
    "sns.set()\n",
    "plt.figure(figsize = (20,6))\n",
    "pl = sns.barplot(x = df.index, y = df['ms_SMA_7_deaths'])\n",
    "for ind, label in enumerate(pl.get_xticklabels()):\n",
    "    if ind % 10 == 0:  # every 10th label is kept\n",
    "        label.set_visible(True)\n",
    "    else:\n",
    "        label.set_visible(False)\n",
    "_=plt.xticks( rotation=35)\n",
    "_=pl.set_title('New confirmed deaths Mississippi 7 day average')"
   ]
  },
  {
   "cell_type": "markdown",
   "metadata": {},
   "source": [
    "# 7 Day Average of daily new cases (LA, MS, Ro)"
   ]
  },
  {
   "cell_type": "code",
   "execution_count": null,
   "metadata": {},
   "outputs": [],
   "source": [
    "df[['pandas_SMA_7', 'ro_SMA_7_daily', 'ms_SMA_7_daily']].plot(x_compat = True, figsize = (16,6))\n",
    "plt.title('New daily cases on a 7-day average')\n",
    "plt.show()"
   ]
  },
  {
   "cell_type": "markdown",
   "metadata": {},
   "source": [
    "# 7 Day Average of daily new cases per 1 000 000 people (LA, MS, Ro)"
   ]
  },
  {
   "cell_type": "code",
   "execution_count": null,
   "metadata": {},
   "outputs": [],
   "source": [
    "df['LA_daily_prop_7'] = df.apply(lambda row: row['pandas_SMA_7'] * 1000000 / pop_LA, axis = 1)\n",
    "df['MS_daily_prop_7'] = df.apply(lambda row: row['ms_SMA_7_daily'] * 1000000 / pop_MS, axis = 1)\n",
    "df['Ro_daily_prop_7'] = df.apply(lambda row: row['ro_SMA_7_daily'] * 1000000 / pop_Ro, axis = 1)\n",
    "df[['LA_daily_prop_7', 'Ro_daily_prop_7', 'MS_daily_prop_7']].plot(x_compat = True, figsize = (16,6))\n",
    "plt.title('New daily cases on a 7-day average per 1 million people')\n",
    "plt.show()"
   ]
  },
  {
   "cell_type": "markdown",
   "metadata": {},
   "source": [
    "# 7 Day Average of daily deaths (LA, MS, Ro)"
   ]
  },
  {
   "cell_type": "code",
   "execution_count": null,
   "metadata": {},
   "outputs": [],
   "source": [
    "df[['deaths_SMA_7', 'ro_SMA_7_deaths', 'ms_SMA_7_deaths']].plot(x_compat=True, figsize=(16,6))\n",
    "plt.title('New daily deaths on a 7-day average')\n",
    "plt.show()"
   ]
  },
  {
   "cell_type": "markdown",
   "metadata": {},
   "source": [
    "# 7 Day Average of daily deaths per 1 000 000 people (LA, MS, Ro)"
   ]
  },
  {
   "cell_type": "code",
   "execution_count": null,
   "metadata": {},
   "outputs": [],
   "source": [
    "df['LA_deaths_prop_7'] = df.apply(lambda row: row['deaths_SMA_7'] * 1000000 / pop_LA, axis = 1)\n",
    "df['MS_deaths_prop_7'] = df.apply(lambda row: row['ms_SMA_7_deaths'] * 1000000 / pop_MS, axis = 1)\n",
    "df['Ro_deaths_prop_7'] = df.apply(lambda row: row['ro_SMA_7_deaths'] * 1000000 / pop_Ro, axis = 1)\n",
    "df[['LA_deaths_prop_7', 'Ro_deaths_prop_7', 'MS_deaths_prop_7']].plot(x_compat=True, figsize=(16,6))\n",
    "plt.title('New daily deaths on a 7-day average per 1 million people')\n",
    "plt.show()"
   ]
  },
  {
   "cell_type": "markdown",
   "metadata": {},
   "source": [
    "### This is the scraper for the LA County data straight out of the worldometer website - on the same page as the California numbers, but out of the table lower down."
   ]
  },
  {
   "cell_type": "code",
   "execution_count": null,
   "metadata": {},
   "outputs": [],
   "source": [
    "hp = HTMLTableParser()\n",
    "url = \"https://www.worldometers.info/coronavirus/usa/california/\"\n",
    "table = hp.parse_url(url)[0][1] # Grabbing the table from the tuple\n",
    "table.head()"
   ]
  },
  {
   "cell_type": "code",
   "execution_count": null,
   "metadata": {},
   "outputs": [],
   "source": [
    "la_row = table.iloc[1]\n",
    "int(la_row['TotalCases'].strip().replace(',', ''))"
   ]
  },
  {
   "cell_type": "code",
   "execution_count": null,
   "metadata": {},
   "outputs": [],
   "source": [
    "s = la_row['TotalTests']\n",
    "int(''.join(filter(str.isdigit, la_row['TotalTests'])))"
   ]
  },
  {
   "cell_type": "code",
   "execution_count": null,
   "metadata": {},
   "outputs": [],
   "source": [
    "\n",
    "from datetime import timedelta\n",
    "  \n",
    "#URL = \"http://publichealth.lacounty.gov/media/Coronavirus/\"\n",
    "#URL = \"http://publichealth.lacounty.gov/media/Coronavirus/data/index.htm#\"\n",
    "URL = \"https://www.worldometers.info/coronavirus/usa/california/\"\n",
    "r = requests.get(URL)  \n",
    "soup = BeautifulSoup(r.content, 'html5lib') \n",
    "the_text = soup.get_text()\n",
    "st_date = the_text\n",
    "date_md = [int(s) for s in st_date.split() if s.isdigit()]\n",
    "#print(soup.prettify())  \n",
    "new_data = []\n",
    "table = soup.find_all('table')[0] # Grab the first table\n",
    "    \n",
    "\n",
    "#dt_txt = soup.find('div', attrs = {'class': 'col-md-12 center'})\n",
    "#all_text = dt_txt.get_text()\n",
    "#new_dt = [int(s) for s in all_text.split() if s.isdigit()]\n",
    "#print(new_dt)\n",
    "#if len(table) > 2:\n",
    "#    print('Need to take a look, format of page has changed')\n",
    "#for row in table: \n",
    "#    print(row.text)\n",
    "#    new_data.append(int(row.text))\n",
    "     \n",
    "#print(new_data)\n"
   ]
  },
  {
   "cell_type": "markdown",
   "metadata": {},
   "source": [
    "TO DO: \n",
    "    1. improve and fix scrapers for data - done; still needed for LA County data - done\n",
    "    2. plot 7 day averages - done;\n",
    "    3. build prediction models"
   ]
  }
 ],
 "metadata": {
  "kernelspec": {
   "display_name": "Python 3",
   "language": "python",
   "name": "python3"
  },
  "language_info": {
   "codemirror_mode": {
    "name": "ipython",
    "version": 3
   },
   "file_extension": ".py",
   "mimetype": "text/x-python",
   "name": "python",
   "nbconvert_exporter": "python",
   "pygments_lexer": "ipython3",
   "version": "3.7.2"
  }
 },
 "nbformat": 4,
 "nbformat_minor": 2
}
